{
  "cells": [
    {
      "cell_type": "code",
      "execution_count": 2,
      "metadata": {
        "colab": {
          "base_uri": "https://localhost:8080/"
        },
        "id": "hDamMEmrxdtI",
        "outputId": "470db231-05fb-4f8b-c8dc-cf10230587ec"
      },
      "outputs": [
        {
          "output_type": "stream",
          "name": "stdout",
          "text": [
            "Looking in indexes: https://pypi.org/simple, https://us-python.pkg.dev/colab-wheels/public/simple/\n",
            "Collecting pytrends\n",
            "  Downloading pytrends-4.8.0.tar.gz (19 kB)\n",
            "Requirement already satisfied: requests>=2.0 in /usr/local/lib/python3.7/dist-packages (from pytrends) (2.23.0)\n",
            "Requirement already satisfied: pandas>=0.25 in /usr/local/lib/python3.7/dist-packages (from pytrends) (1.3.5)\n",
            "Requirement already satisfied: lxml in /usr/local/lib/python3.7/dist-packages (from pytrends) (4.2.6)\n",
            "Requirement already satisfied: numpy>=1.17.3 in /usr/local/lib/python3.7/dist-packages (from pandas>=0.25->pytrends) (1.21.6)\n",
            "Requirement already satisfied: python-dateutil>=2.7.3 in /usr/local/lib/python3.7/dist-packages (from pandas>=0.25->pytrends) (2.8.2)\n",
            "Requirement already satisfied: pytz>=2017.3 in /usr/local/lib/python3.7/dist-packages (from pandas>=0.25->pytrends) (2022.1)\n",
            "Requirement already satisfied: six>=1.5 in /usr/local/lib/python3.7/dist-packages (from python-dateutil>=2.7.3->pandas>=0.25->pytrends) (1.15.0)\n",
            "Requirement already satisfied: urllib3!=1.25.0,!=1.25.1,<1.26,>=1.21.1 in /usr/local/lib/python3.7/dist-packages (from requests>=2.0->pytrends) (1.24.3)\n",
            "Requirement already satisfied: chardet<4,>=3.0.2 in /usr/local/lib/python3.7/dist-packages (from requests>=2.0->pytrends) (3.0.4)\n",
            "Requirement already satisfied: certifi>=2017.4.17 in /usr/local/lib/python3.7/dist-packages (from requests>=2.0->pytrends) (2022.6.15)\n",
            "Requirement already satisfied: idna<3,>=2.5 in /usr/local/lib/python3.7/dist-packages (from requests>=2.0->pytrends) (2.10)\n",
            "Building wheels for collected packages: pytrends\n",
            "  Building wheel for pytrends (setup.py) ... \u001b[?25l\u001b[?25hdone\n",
            "  Created wheel for pytrends: filename=pytrends-4.8.0-py3-none-any.whl size=16126 sha256=85e8a84de0a6c967b4380b37d00ac8e7dabd70d86d1e91010dc1074d29d26357\n",
            "  Stored in directory: /root/.cache/pip/wheels/07/6f/5c/8174f98dec1bfbc7d5da4092854afcbcff4b26c3d9b66b5183\n",
            "Successfully built pytrends\n",
            "Installing collected packages: pytrends\n",
            "Successfully installed pytrends-4.8.0\n"
          ]
        }
      ],
      "source": [
        "!pip install pytrends"
      ]
    },
    {
      "cell_type": "code",
      "source": [
        "!pip install --upgrade --user git+https://github.com/GeneralMills/pytrends"
      ],
      "metadata": {
        "colab": {
          "base_uri": "https://localhost:8080/"
        },
        "id": "owyO0Itnz8eQ",
        "outputId": "02b6d0e7-ef96-4b59-cd38-0f80d289fc78"
      },
      "execution_count": 3,
      "outputs": [
        {
          "output_type": "stream",
          "name": "stdout",
          "text": [
            "Looking in indexes: https://pypi.org/simple, https://us-python.pkg.dev/colab-wheels/public/simple/\n",
            "Collecting git+https://github.com/GeneralMills/pytrends\n",
            "  Cloning https://github.com/GeneralMills/pytrends to /tmp/pip-req-build-ye7wixhe\n",
            "  Running command git clone -q https://github.com/GeneralMills/pytrends /tmp/pip-req-build-ye7wixhe\n",
            "Requirement already satisfied: requests>=2.0 in /usr/local/lib/python3.7/dist-packages (from pytrends==4.7.4) (2.23.0)\n",
            "Requirement already satisfied: pandas>=0.25 in /usr/local/lib/python3.7/dist-packages (from pytrends==4.7.4) (1.3.5)\n",
            "Requirement already satisfied: lxml in /usr/local/lib/python3.7/dist-packages (from pytrends==4.7.4) (4.2.6)\n",
            "Requirement already satisfied: pytz>=2017.3 in /usr/local/lib/python3.7/dist-packages (from pandas>=0.25->pytrends==4.7.4) (2022.1)\n",
            "Requirement already satisfied: python-dateutil>=2.7.3 in /usr/local/lib/python3.7/dist-packages (from pandas>=0.25->pytrends==4.7.4) (2.8.2)\n",
            "Requirement already satisfied: numpy>=1.17.3 in /usr/local/lib/python3.7/dist-packages (from pandas>=0.25->pytrends==4.7.4) (1.21.6)\n",
            "Requirement already satisfied: six>=1.5 in /usr/local/lib/python3.7/dist-packages (from python-dateutil>=2.7.3->pandas>=0.25->pytrends==4.7.4) (1.15.0)\n",
            "Requirement already satisfied: idna<3,>=2.5 in /usr/local/lib/python3.7/dist-packages (from requests>=2.0->pytrends==4.7.4) (2.10)\n",
            "Requirement already satisfied: certifi>=2017.4.17 in /usr/local/lib/python3.7/dist-packages (from requests>=2.0->pytrends==4.7.4) (2022.6.15)\n",
            "Requirement already satisfied: urllib3!=1.25.0,!=1.25.1,<1.26,>=1.21.1 in /usr/local/lib/python3.7/dist-packages (from requests>=2.0->pytrends==4.7.4) (1.24.3)\n",
            "Requirement already satisfied: chardet<4,>=3.0.2 in /usr/local/lib/python3.7/dist-packages (from requests>=2.0->pytrends==4.7.4) (3.0.4)\n",
            "Building wheels for collected packages: pytrends\n",
            "  Building wheel for pytrends (setup.py) ... \u001b[?25l\u001b[?25hdone\n",
            "  Created wheel for pytrends: filename=pytrends-4.7.4-py3-none-any.whl size=16288 sha256=c2a8876a24d80ca39ea047cf47fd8ba0ea0dbbef7a3ff7cfafb1793be588c10a\n",
            "  Stored in directory: /tmp/pip-ephem-wheel-cache-rwi8pace/wheels/c1/65/c5/60688c4521e16561ac09af949eb432957b257dfda14c4fe516\n",
            "Successfully built pytrends\n",
            "Installing collected packages: pytrends\n",
            "Successfully installed pytrends-4.7.4\n"
          ]
        }
      ]
    },
    {
      "cell_type": "code",
      "execution_count": 2,
      "metadata": {
        "id": "nuWTpNCazDmi"
      },
      "outputs": [],
      "source": [
        "import pandas as pd\n",
        "import matplotlib.pyplot as plt\n",
        "from pytrends.request import TrendReq\n",
        "from pytrends import dailydata\n",
        "import seaborn as sns\n",
        "import datetime\n",
        "from google.colab import files\n",
        "from tqdm import tqdm\n",
        "import time\n",
        "import numpy as np\n",
        "from statistics import mean\n",
        "import matplotlib.ticker as ticker"
      ]
    },
    {
      "cell_type": "code",
      "execution_count": 5,
      "metadata": {
        "id": "22ZrKRK7WF5V"
      },
      "outputs": [],
      "source": [
        "%matplotlib inline\n",
        "sns.set_theme(style=\"whitegrid\")"
      ]
    },
    {
      "cell_type": "markdown",
      "source": [
        "Заметки:\n",
        "\n",
        "GAL2, IMX1 - только такой запрос\n",
        "\n",
        "Просмотреть вручную: CRV, ALGO, SXP, FLEX, BTG, FLEX, NFT1, GMT3, ANC1, MIR1\n",
        "\n",
        "USDC1, CNC, MIR1, WFTM - нет информации (убираем)"
      ],
      "metadata": {
        "id": "ar7P321mkFQi"
      }
    },
    {
      "cell_type": "code",
      "source": [
        "# reading the coins names\n",
        "uploaded = files.upload()"
      ],
      "metadata": {
        "colab": {
          "resources": {
            "http://localhost:8080/nbextensions/google.colab/files.js": {
              "data": "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",
              "ok": true,
              "headers": [
                [
                  "content-type",
                  "application/javascript"
                ]
              ],
              "status": 200,
              "status_text": ""
            }
          },
          "base_uri": "https://localhost:8080/",
          "height": 73
        },
        "id": "WkFvdyZEvqaa",
        "outputId": "fed22e8a-4915-410b-adc1-8dc7a633dd6b"
      },
      "execution_count": null,
      "outputs": [
        {
          "output_type": "display_data",
          "data": {
            "text/plain": [
              "<IPython.core.display.HTML object>"
            ],
            "text/html": [
              "\n",
              "     <input type=\"file\" id=\"files-78b5e51c-4102-408f-8ecf-567528b1e3dd\" name=\"files[]\" multiple disabled\n",
              "        style=\"border:none\" />\n",
              "     <output id=\"result-78b5e51c-4102-408f-8ecf-567528b1e3dd\">\n",
              "      Upload widget is only available when the cell has been executed in the\n",
              "      current browser session. Please rerun this cell to enable.\n",
              "      </output>\n",
              "      <script src=\"/nbextensions/google.colab/files.js\"></script> "
            ]
          },
          "metadata": {}
        },
        {
          "output_type": "stream",
          "name": "stdout",
          "text": [
            "Saving GT_Weekly_full.csv to GT_Weekly_full.csv\n"
          ]
        }
      ]
    },
    {
      "cell_type": "code",
      "source": [
        "coins = pd.read_csv(\"coins.csv\")\n",
        "coins = [coins[\"Coin\"][coin] for coin in range(len(coins)) if coins[\"Stablecoin\"][coin] == 0]\n",
        "coins = [coin.replace('-USD', '') for coin in coins]"
      ],
      "metadata": {
        "id": "E1yHtjECwAO9"
      },
      "execution_count": null,
      "outputs": []
    },
    {
      "cell_type": "code",
      "source": [
        "# remove coins without a history of requests\n",
        "coins = set(coins)\n",
        "coins.remove('USDC1')\n",
        "coins.remove('GAL2')\n",
        "coins.remove('IMX1')\n",
        "coins.remove('GMT3')\n",
        "coins.remove('ANC1')\n",
        "coins.remove('UNI1')\n",
        "coins.remove('XCN')\n",
        "coins.remove('MIR1')"
      ],
      "metadata": {
        "id": "PS36xKYEwnoG"
      },
      "execution_count": null,
      "outputs": []
    },
    {
      "cell_type": "code",
      "source": [
        "coins = list(coins)"
      ],
      "metadata": {
        "id": "MlZJhKsQn8nK"
      },
      "execution_count": null,
      "outputs": []
    },
    {
      "cell_type": "code",
      "source": [
        "len(coins)"
      ],
      "metadata": {
        "colab": {
          "base_uri": "https://localhost:8080/"
        },
        "id": "QI7OO766fyej",
        "outputId": "8eb90e19-f356-4911-f444-a392d6caf18d"
      },
      "execution_count": null,
      "outputs": [
        {
          "output_type": "execute_result",
          "data": {
            "text/plain": [
              "87"
            ]
          },
          "metadata": {},
          "execution_count": 40
        }
      ]
    },
    {
      "cell_type": "code",
      "source": [
        "pytrend = TrendReq()\n",
        "kw_lst = ['IMX1']\n",
        "\n",
        "pytrend.build_payload(kw_list=kw_lst, cat=0, \n",
        "                               timeframe=f'2015-01-01 2021-12-31', geo='')\n",
        "    \n",
        "tmp_df = pytrend.interest_over_time()\n",
        "related_queries = pytrend.related_queries()\n",
        "queries = related_queries.values()\n",
        "queries = list(queries)\n",
        "queries = queries[0]['top']"
      ],
      "metadata": {
        "id": "PGML0WgBfMIP"
      },
      "execution_count": null,
      "outputs": []
    },
    {
      "cell_type": "code",
      "source": [
        "# extract related_queries\n",
        "\n",
        "coin_df = pd.DataFrame()\n",
        "queries_df = pd.DataFrame()\n",
        "pytrend = TrendReq()\n",
        "col = 0\n",
        "col1 = 0\n",
        "\n",
        "# provide your search terms\n",
        "coins_tmp = coins[50:]\n",
        "for coin in tqdm(coins_tmp):\n",
        "    kw_lst = [coin+' crypto']\n",
        "\n",
        "    pytrend.build_payload(kw_list=kw_lst, cat=0, \n",
        "                               timeframe=f'2015-01-01 2021-12-31', geo='')\n",
        "    \n",
        "    tmp_df = pytrend.interest_over_time()\n",
        "    tmp_df = tmp_df[[coin+ ' crypto']]\n",
        "\n",
        "    coin_df.insert(col, coin, tmp_df)\n",
        "\n",
        "    related_queries = pytrend.related_queries()\n",
        "\n",
        "    queries = related_queries.values()\n",
        "    queries = list(queries)\n",
        "    queries = queries[0]['top']\n",
        "\n",
        "    queries_df.insert(col1, f'{coin}_query', queries['query'])\n",
        "    queries_df.insert(col1+1, f'{coin}_value', queries['value'])\n",
        "\n",
        "    col += 1\n",
        "    col1 += 2\n",
        "\n",
        "    time.sleep(5)\n",
        "coin_df.index = tmp_df.index"
      ],
      "metadata": {
        "id": "GepBz-VQGLUT",
        "colab": {
          "base_uri": "https://localhost:8080/"
        },
        "outputId": "5afef9b1-6d09-41a5-83d9-48e1d208aad4"
      },
      "execution_count": null,
      "outputs": [
        {
          "output_type": "stream",
          "name": "stderr",
          "text": [
            "\r  0%|          | 0/37 [00:00<?, ?it/s]"
          ]
        },
        {
          "output_type": "stream",
          "name": "stdout",
          "text": [
            "DOT\n"
          ]
        },
        {
          "output_type": "stream",
          "name": "stderr",
          "text": [
            "\r  3%|▎         | 1/37 [00:05<03:31,  5.88s/it]"
          ]
        },
        {
          "output_type": "stream",
          "name": "stdout",
          "text": [
            "XRP\n"
          ]
        },
        {
          "output_type": "stream",
          "name": "stderr",
          "text": [
            "\r  5%|▌         | 2/37 [00:11<03:19,  5.71s/it]"
          ]
        },
        {
          "output_type": "stream",
          "name": "stdout",
          "text": [
            "NEO\n"
          ]
        },
        {
          "output_type": "stream",
          "name": "stderr",
          "text": [
            "\r  8%|▊         | 3/37 [00:17<03:13,  5.70s/it]"
          ]
        },
        {
          "output_type": "stream",
          "name": "stdout",
          "text": [
            "AXS\n"
          ]
        },
        {
          "output_type": "stream",
          "name": "stderr",
          "text": [
            "\r 11%|█         | 4/37 [00:22<03:07,  5.67s/it]"
          ]
        },
        {
          "output_type": "stream",
          "name": "stdout",
          "text": [
            "QTUM\n"
          ]
        },
        {
          "output_type": "stream",
          "name": "stderr",
          "text": [
            "\r 14%|█▎        | 5/37 [00:28<03:01,  5.66s/it]"
          ]
        },
        {
          "output_type": "stream",
          "name": "stdout",
          "text": [
            "GALA\n"
          ]
        },
        {
          "output_type": "stream",
          "name": "stderr",
          "text": [
            "\r 16%|█▌        | 6/37 [00:34<02:55,  5.66s/it]"
          ]
        },
        {
          "output_type": "stream",
          "name": "stdout",
          "text": [
            "MANA\n"
          ]
        },
        {
          "output_type": "stream",
          "name": "stderr",
          "text": [
            "\r 19%|█▉        | 7/37 [00:39<02:50,  5.67s/it]"
          ]
        },
        {
          "output_type": "stream",
          "name": "stdout",
          "text": [
            "SNX\n"
          ]
        },
        {
          "output_type": "stream",
          "name": "stderr",
          "text": [
            "\r 22%|██▏       | 8/37 [00:45<02:44,  5.66s/it]"
          ]
        },
        {
          "output_type": "stream",
          "name": "stdout",
          "text": [
            "BNB\n"
          ]
        },
        {
          "output_type": "stream",
          "name": "stderr",
          "text": [
            "\r 24%|██▍       | 9/37 [00:51<02:38,  5.67s/it]"
          ]
        },
        {
          "output_type": "stream",
          "name": "stdout",
          "text": [
            "NEAR\n"
          ]
        },
        {
          "output_type": "stream",
          "name": "stderr",
          "text": [
            "\r 27%|██▋       | 10/37 [00:56<02:33,  5.67s/it]"
          ]
        },
        {
          "output_type": "stream",
          "name": "stdout",
          "text": [
            "LRC\n"
          ]
        },
        {
          "output_type": "stream",
          "name": "stderr",
          "text": [
            "\r 30%|██▉       | 11/37 [01:02<02:26,  5.63s/it]"
          ]
        },
        {
          "output_type": "stream",
          "name": "stdout",
          "text": [
            "CRV\n"
          ]
        },
        {
          "output_type": "stream",
          "name": "stderr",
          "text": [
            "\r 32%|███▏      | 12/37 [01:07<02:20,  5.62s/it]"
          ]
        },
        {
          "output_type": "stream",
          "name": "stdout",
          "text": [
            "LTC\n"
          ]
        },
        {
          "output_type": "stream",
          "name": "stderr",
          "text": [
            "\r 35%|███▌      | 13/37 [01:13<02:15,  5.64s/it]"
          ]
        },
        {
          "output_type": "stream",
          "name": "stdout",
          "text": [
            "DYDX\n"
          ]
        },
        {
          "output_type": "stream",
          "name": "stderr",
          "text": [
            "\r 38%|███▊      | 14/37 [01:19<02:09,  5.63s/it]"
          ]
        },
        {
          "output_type": "stream",
          "name": "stdout",
          "text": [
            "OMG\n"
          ]
        },
        {
          "output_type": "stream",
          "name": "stderr",
          "text": [
            "\r 41%|████      | 15/37 [01:24<02:02,  5.57s/it]"
          ]
        },
        {
          "output_type": "stream",
          "name": "stdout",
          "text": [
            "TRX\n"
          ]
        },
        {
          "output_type": "stream",
          "name": "stderr",
          "text": [
            "\r 43%|████▎     | 16/37 [01:30<01:57,  5.61s/it]"
          ]
        },
        {
          "output_type": "stream",
          "name": "stdout",
          "text": [
            "FTM\n"
          ]
        },
        {
          "output_type": "stream",
          "name": "stderr",
          "text": [
            "\r 46%|████▌     | 17/37 [01:35<01:52,  5.62s/it]"
          ]
        },
        {
          "output_type": "stream",
          "name": "stdout",
          "text": [
            "ALICE\n"
          ]
        },
        {
          "output_type": "stream",
          "name": "stderr",
          "text": [
            "\r 49%|████▊     | 18/37 [01:41<01:46,  5.63s/it]"
          ]
        },
        {
          "output_type": "stream",
          "name": "stdout",
          "text": [
            "WBNB\n"
          ]
        },
        {
          "output_type": "stream",
          "name": "stderr",
          "text": [
            "\r 51%|█████▏    | 19/37 [01:47<01:41,  5.62s/it]"
          ]
        },
        {
          "output_type": "stream",
          "name": "stdout",
          "text": [
            "KAVA\n"
          ]
        },
        {
          "output_type": "stream",
          "name": "stderr",
          "text": [
            "\r 54%|█████▍    | 20/37 [01:52<01:34,  5.59s/it]"
          ]
        },
        {
          "output_type": "stream",
          "name": "stdout",
          "text": [
            "KSM\n"
          ]
        },
        {
          "output_type": "stream",
          "name": "stderr",
          "text": [
            "\r 57%|█████▋    | 21/37 [01:58<01:28,  5.56s/it]"
          ]
        },
        {
          "output_type": "stream",
          "name": "stdout",
          "text": [
            "SXP\n"
          ]
        },
        {
          "output_type": "stream",
          "name": "stderr",
          "text": [
            "\r 59%|█████▉    | 22/37 [02:03<01:23,  5.58s/it]"
          ]
        },
        {
          "output_type": "stream",
          "name": "stdout",
          "text": [
            "TRY\n"
          ]
        },
        {
          "output_type": "stream",
          "name": "stderr",
          "text": [
            "\r 62%|██████▏   | 23/37 [02:09<01:17,  5.56s/it]"
          ]
        },
        {
          "output_type": "stream",
          "name": "stdout",
          "text": [
            "KNC\n"
          ]
        },
        {
          "output_type": "stream",
          "name": "stderr",
          "text": [
            "\r 65%|██████▍   | 24/37 [02:14<01:12,  5.54s/it]"
          ]
        },
        {
          "output_type": "stream",
          "name": "stdout",
          "text": [
            "FLEX\n"
          ]
        },
        {
          "output_type": "stream",
          "name": "stderr",
          "text": [
            "\r 68%|██████▊   | 25/37 [02:20<01:06,  5.56s/it]"
          ]
        },
        {
          "output_type": "stream",
          "name": "stdout",
          "text": [
            "MATIC\n"
          ]
        },
        {
          "output_type": "stream",
          "name": "stderr",
          "text": [
            "\r 70%|███████   | 26/37 [02:26<01:01,  5.60s/it]"
          ]
        },
        {
          "output_type": "stream",
          "name": "stdout",
          "text": [
            "ADA\n"
          ]
        },
        {
          "output_type": "stream",
          "name": "stderr",
          "text": [
            "\r 73%|███████▎  | 27/37 [02:31<00:56,  5.63s/it]"
          ]
        },
        {
          "output_type": "stream",
          "name": "stdout",
          "text": [
            "FIL\n"
          ]
        },
        {
          "output_type": "stream",
          "name": "stderr",
          "text": [
            "\r 76%|███████▌  | 28/37 [02:37<00:50,  5.59s/it]"
          ]
        },
        {
          "output_type": "stream",
          "name": "stdout",
          "text": [
            "POWR\n"
          ]
        },
        {
          "output_type": "stream",
          "name": "stderr",
          "text": [
            "\r 78%|███████▊  | 29/37 [02:42<00:44,  5.59s/it]"
          ]
        },
        {
          "output_type": "stream",
          "name": "stdout",
          "text": [
            "BAT\n"
          ]
        },
        {
          "output_type": "stream",
          "name": "stderr",
          "text": [
            "\r 81%|████████  | 30/37 [02:48<00:39,  5.59s/it]"
          ]
        },
        {
          "output_type": "stream",
          "name": "stdout",
          "text": [
            "XTZ\n"
          ]
        },
        {
          "output_type": "stream",
          "name": "stderr",
          "text": [
            "\r 84%|████████▍ | 31/37 [02:54<00:33,  5.57s/it]"
          ]
        },
        {
          "output_type": "stream",
          "name": "stdout",
          "text": [
            "WAVES\n"
          ]
        },
        {
          "output_type": "stream",
          "name": "stderr",
          "text": [
            "\r 86%|████████▋ | 32/37 [02:59<00:27,  5.60s/it]"
          ]
        },
        {
          "output_type": "stream",
          "name": "stdout",
          "text": [
            "BSV\n"
          ]
        },
        {
          "output_type": "stream",
          "name": "stderr",
          "text": [
            "\r 89%|████████▉ | 33/37 [03:05<00:22,  5.61s/it]"
          ]
        },
        {
          "output_type": "stream",
          "name": "stdout",
          "text": [
            "XLM\n"
          ]
        },
        {
          "output_type": "stream",
          "name": "stderr",
          "text": [
            "\r 92%|█████████▏| 34/37 [03:10<00:16,  5.61s/it]"
          ]
        },
        {
          "output_type": "stream",
          "name": "stdout",
          "text": [
            "BETA\n"
          ]
        },
        {
          "output_type": "stream",
          "name": "stderr",
          "text": [
            "\r 95%|█████████▍| 35/37 [03:16<00:11,  5.60s/it]"
          ]
        },
        {
          "output_type": "stream",
          "name": "stdout",
          "text": [
            "EOS\n"
          ]
        },
        {
          "output_type": "stream",
          "name": "stderr",
          "text": [
            "\r 97%|█████████▋| 36/37 [03:22<00:05,  5.63s/it]"
          ]
        },
        {
          "output_type": "stream",
          "name": "stdout",
          "text": [
            "ZIL\n"
          ]
        },
        {
          "output_type": "stream",
          "name": "stderr",
          "text": [
            "100%|██████████| 37/37 [03:27<00:00,  5.62s/it]\n"
          ]
        }
      ]
    },
    {
      "cell_type": "code",
      "source": [
        "queries_df.shape"
      ],
      "metadata": {
        "colab": {
          "base_uri": "https://localhost:8080/"
        },
        "id": "nsGBGHtlouT7",
        "outputId": "01960217-abd3-4da1-9092-6aba6e7605d4"
      },
      "execution_count": null,
      "outputs": [
        {
          "output_type": "execute_result",
          "data": {
            "text/plain": [
              "(25, 74)"
            ]
          },
          "metadata": {},
          "execution_count": 45
        }
      ]
    },
    {
      "cell_type": "code",
      "source": [
        ""
      ],
      "metadata": {
        "id": "M82l5hK-vUOV"
      },
      "execution_count": null,
      "outputs": []
    },
    {
      "cell_type": "code",
      "source": [
        ""
      ],
      "metadata": {
        "id": "9Agw1nH3h1pn"
      },
      "execution_count": null,
      "outputs": []
    },
    {
      "cell_type": "markdown",
      "source": [
        "Collect all of the daily SVI data you need in 90 days increments"
      ],
      "metadata": {
        "id": "6IDn4kh9h3C2"
      }
    },
    {
      "cell_type": "code",
      "source": [
        ""
      ],
      "metadata": {
        "id": "bOfZi0hph1iq"
      },
      "execution_count": null,
      "outputs": []
    },
    {
      "cell_type": "code",
      "source": [
        "coins_name = pd.read_csv('related_queries_final.csv')"
      ],
      "metadata": {
        "id": "XkBQOiN4j7qd"
      },
      "execution_count": null,
      "outputs": []
    },
    {
      "cell_type": "code",
      "source": [
        "coins_name"
      ],
      "metadata": {
        "colab": {
          "base_uri": "https://localhost:8080/",
          "height": 370
        },
        "id": "ttQ5JFKYkD0c",
        "outputId": "0554cdbb-eddb-4826-f80d-44b33d21e164"
      },
      "execution_count": null,
      "outputs": [
        {
          "output_type": "execute_result",
          "data": {
            "text/plain": [
              "           BCH         WBNB         ETH          XLM          C98  \\\n",
              "0      bch btc    wbnb coin     eth btc    xlm price     c98 coin   \n",
              "1    bch price  wbnb to bnb  eth to usd     xlm coin    c98 price   \n",
              "2  bch bitcoin   wbnb price   eth price  stellar xlm  c98 binance   \n",
              "3      bch usd  wbnb crypto     eth usd      stellar   c98 crypto   \n",
              "\n",
              "              JASMY             AVAX             SHIB           KRW  \\\n",
              "0        coin jasmy        avax coin        shib coin       usd krw   \n",
              "1       jasmy price       avax yorum       shib price    usd to krw   \n",
              "2      jasmy crypto       avax price  shib coin price       krw sgd   \n",
              "3  jasmy coin price  avax coin yorum      shib crypto  currency krw   \n",
              "\n",
              "          XRP  ...               MKR             TRY               DASH  \\\n",
              "0   xrp price  ...        MKR crypto      TRY crypto        DASH crypto   \n",
              "1    xrp news  ...  mkr crypto price         usd try  dash crypto price   \n",
              "2  ripple xrp  ...         mkr price        try coin         dash price   \n",
              "3      ripple  ...          mkr coin  try coin yorum          dash coin   \n",
              "\n",
              "                SAND            XMR               AAVE             JST  \\\n",
              "0        SAND crypto     XMR crypto        AAVE crypto        JST coin   \n",
              "1  sand crypto price         monero  aave crypto price      JST crypto   \n",
              "2         sand price  monero crypto         aave price  jst coin price   \n",
              "3          sand coin     monero xmr          aave coin       just coin   \n",
              "\n",
              "                DAR           REP                    ICP  \n",
              "0        DAR crypto    REP crypto             ICP crypto  \n",
              "1  dar crypto price      rep coin       icp crypto price  \n",
              "2          dar coin     augur rep              icp price  \n",
              "3   dalarnia crypto  augur crypto  icp crypto prediction  \n",
              "\n",
              "[4 rows x 82 columns]"
            ],
            "text/html": [
              "\n",
              "  <div id=\"df-3be112c0-1702-4580-8ba4-5ad37fec2c73\">\n",
              "    <div class=\"colab-df-container\">\n",
              "      <div>\n",
              "<style scoped>\n",
              "    .dataframe tbody tr th:only-of-type {\n",
              "        vertical-align: middle;\n",
              "    }\n",
              "\n",
              "    .dataframe tbody tr th {\n",
              "        vertical-align: top;\n",
              "    }\n",
              "\n",
              "    .dataframe thead th {\n",
              "        text-align: right;\n",
              "    }\n",
              "</style>\n",
              "<table border=\"1\" class=\"dataframe\">\n",
              "  <thead>\n",
              "    <tr style=\"text-align: right;\">\n",
              "      <th></th>\n",
              "      <th>BCH</th>\n",
              "      <th>WBNB</th>\n",
              "      <th>ETH</th>\n",
              "      <th>XLM</th>\n",
              "      <th>C98</th>\n",
              "      <th>JASMY</th>\n",
              "      <th>AVAX</th>\n",
              "      <th>SHIB</th>\n",
              "      <th>KRW</th>\n",
              "      <th>XRP</th>\n",
              "      <th>...</th>\n",
              "      <th>MKR</th>\n",
              "      <th>TRY</th>\n",
              "      <th>DASH</th>\n",
              "      <th>SAND</th>\n",
              "      <th>XMR</th>\n",
              "      <th>AAVE</th>\n",
              "      <th>JST</th>\n",
              "      <th>DAR</th>\n",
              "      <th>REP</th>\n",
              "      <th>ICP</th>\n",
              "    </tr>\n",
              "  </thead>\n",
              "  <tbody>\n",
              "    <tr>\n",
              "      <th>0</th>\n",
              "      <td>bch btc</td>\n",
              "      <td>wbnb coin</td>\n",
              "      <td>eth btc</td>\n",
              "      <td>xlm price</td>\n",
              "      <td>c98 coin</td>\n",
              "      <td>coin jasmy</td>\n",
              "      <td>avax coin</td>\n",
              "      <td>shib coin</td>\n",
              "      <td>usd krw</td>\n",
              "      <td>xrp price</td>\n",
              "      <td>...</td>\n",
              "      <td>MKR crypto</td>\n",
              "      <td>TRY crypto</td>\n",
              "      <td>DASH crypto</td>\n",
              "      <td>SAND crypto</td>\n",
              "      <td>XMR crypto</td>\n",
              "      <td>AAVE crypto</td>\n",
              "      <td>JST coin</td>\n",
              "      <td>DAR crypto</td>\n",
              "      <td>REP crypto</td>\n",
              "      <td>ICP crypto</td>\n",
              "    </tr>\n",
              "    <tr>\n",
              "      <th>1</th>\n",
              "      <td>bch price</td>\n",
              "      <td>wbnb to bnb</td>\n",
              "      <td>eth to usd</td>\n",
              "      <td>xlm coin</td>\n",
              "      <td>c98 price</td>\n",
              "      <td>jasmy price</td>\n",
              "      <td>avax yorum</td>\n",
              "      <td>shib price</td>\n",
              "      <td>usd to krw</td>\n",
              "      <td>xrp news</td>\n",
              "      <td>...</td>\n",
              "      <td>mkr crypto price</td>\n",
              "      <td>usd try</td>\n",
              "      <td>dash crypto price</td>\n",
              "      <td>sand crypto price</td>\n",
              "      <td>monero</td>\n",
              "      <td>aave crypto price</td>\n",
              "      <td>JST crypto</td>\n",
              "      <td>dar crypto price</td>\n",
              "      <td>rep coin</td>\n",
              "      <td>icp crypto price</td>\n",
              "    </tr>\n",
              "    <tr>\n",
              "      <th>2</th>\n",
              "      <td>bch bitcoin</td>\n",
              "      <td>wbnb price</td>\n",
              "      <td>eth price</td>\n",
              "      <td>stellar xlm</td>\n",
              "      <td>c98 binance</td>\n",
              "      <td>jasmy crypto</td>\n",
              "      <td>avax price</td>\n",
              "      <td>shib coin price</td>\n",
              "      <td>krw sgd</td>\n",
              "      <td>ripple xrp</td>\n",
              "      <td>...</td>\n",
              "      <td>mkr price</td>\n",
              "      <td>try coin</td>\n",
              "      <td>dash price</td>\n",
              "      <td>sand price</td>\n",
              "      <td>monero crypto</td>\n",
              "      <td>aave price</td>\n",
              "      <td>jst coin price</td>\n",
              "      <td>dar coin</td>\n",
              "      <td>augur rep</td>\n",
              "      <td>icp price</td>\n",
              "    </tr>\n",
              "    <tr>\n",
              "      <th>3</th>\n",
              "      <td>bch usd</td>\n",
              "      <td>wbnb crypto</td>\n",
              "      <td>eth usd</td>\n",
              "      <td>stellar</td>\n",
              "      <td>c98 crypto</td>\n",
              "      <td>jasmy coin price</td>\n",
              "      <td>avax coin yorum</td>\n",
              "      <td>shib crypto</td>\n",
              "      <td>currency krw</td>\n",
              "      <td>ripple</td>\n",
              "      <td>...</td>\n",
              "      <td>mkr coin</td>\n",
              "      <td>try coin yorum</td>\n",
              "      <td>dash coin</td>\n",
              "      <td>sand coin</td>\n",
              "      <td>monero xmr</td>\n",
              "      <td>aave coin</td>\n",
              "      <td>just coin</td>\n",
              "      <td>dalarnia crypto</td>\n",
              "      <td>augur crypto</td>\n",
              "      <td>icp crypto prediction</td>\n",
              "    </tr>\n",
              "  </tbody>\n",
              "</table>\n",
              "<p>4 rows × 82 columns</p>\n",
              "</div>\n",
              "      <button class=\"colab-df-convert\" onclick=\"convertToInteractive('df-3be112c0-1702-4580-8ba4-5ad37fec2c73')\"\n",
              "              title=\"Convert this dataframe to an interactive table.\"\n",
              "              style=\"display:none;\">\n",
              "        \n",
              "  <svg xmlns=\"http://www.w3.org/2000/svg\" height=\"24px\"viewBox=\"0 0 24 24\"\n",
              "       width=\"24px\">\n",
              "    <path d=\"M0 0h24v24H0V0z\" fill=\"none\"/>\n",
              "    <path d=\"M18.56 5.44l.94 2.06.94-2.06 2.06-.94-2.06-.94-.94-2.06-.94 2.06-2.06.94zm-11 1L8.5 8.5l.94-2.06 2.06-.94-2.06-.94L8.5 2.5l-.94 2.06-2.06.94zm10 10l.94 2.06.94-2.06 2.06-.94-2.06-.94-.94-2.06-.94 2.06-2.06.94z\"/><path d=\"M17.41 7.96l-1.37-1.37c-.4-.4-.92-.59-1.43-.59-.52 0-1.04.2-1.43.59L10.3 9.45l-7.72 7.72c-.78.78-.78 2.05 0 2.83L4 21.41c.39.39.9.59 1.41.59.51 0 1.02-.2 1.41-.59l7.78-7.78 2.81-2.81c.8-.78.8-2.07 0-2.86zM5.41 20L4 18.59l7.72-7.72 1.47 1.35L5.41 20z\"/>\n",
              "  </svg>\n",
              "      </button>\n",
              "      \n",
              "  <style>\n",
              "    .colab-df-container {\n",
              "      display:flex;\n",
              "      flex-wrap:wrap;\n",
              "      gap: 12px;\n",
              "    }\n",
              "\n",
              "    .colab-df-convert {\n",
              "      background-color: #E8F0FE;\n",
              "      border: none;\n",
              "      border-radius: 50%;\n",
              "      cursor: pointer;\n",
              "      display: none;\n",
              "      fill: #1967D2;\n",
              "      height: 32px;\n",
              "      padding: 0 0 0 0;\n",
              "      width: 32px;\n",
              "    }\n",
              "\n",
              "    .colab-df-convert:hover {\n",
              "      background-color: #E2EBFA;\n",
              "      box-shadow: 0px 1px 2px rgba(60, 64, 67, 0.3), 0px 1px 3px 1px rgba(60, 64, 67, 0.15);\n",
              "      fill: #174EA6;\n",
              "    }\n",
              "\n",
              "    [theme=dark] .colab-df-convert {\n",
              "      background-color: #3B4455;\n",
              "      fill: #D2E3FC;\n",
              "    }\n",
              "\n",
              "    [theme=dark] .colab-df-convert:hover {\n",
              "      background-color: #434B5C;\n",
              "      box-shadow: 0px 1px 3px 1px rgba(0, 0, 0, 0.15);\n",
              "      filter: drop-shadow(0px 1px 2px rgba(0, 0, 0, 0.3));\n",
              "      fill: #FFFFFF;\n",
              "    }\n",
              "  </style>\n",
              "\n",
              "      <script>\n",
              "        const buttonEl =\n",
              "          document.querySelector('#df-3be112c0-1702-4580-8ba4-5ad37fec2c73 button.colab-df-convert');\n",
              "        buttonEl.style.display =\n",
              "          google.colab.kernel.accessAllowed ? 'block' : 'none';\n",
              "\n",
              "        async function convertToInteractive(key) {\n",
              "          const element = document.querySelector('#df-3be112c0-1702-4580-8ba4-5ad37fec2c73');\n",
              "          const dataTable =\n",
              "            await google.colab.kernel.invokeFunction('convertToInteractive',\n",
              "                                                     [key], {});\n",
              "          if (!dataTable) return;\n",
              "\n",
              "          const docLinkHtml = 'Like what you see? Visit the ' +\n",
              "            '<a target=\"_blank\" href=https://colab.research.google.com/notebooks/data_table.ipynb>data table notebook</a>'\n",
              "            + ' to learn more about interactive tables.';\n",
              "          element.innerHTML = '';\n",
              "          dataTable['output_type'] = 'display_data';\n",
              "          await google.colab.output.renderOutput(dataTable, element);\n",
              "          const docLink = document.createElement('div');\n",
              "          docLink.innerHTML = docLinkHtml;\n",
              "          element.appendChild(docLink);\n",
              "        }\n",
              "      </script>\n",
              "    </div>\n",
              "  </div>\n",
              "  "
            ]
          },
          "metadata": {},
          "execution_count": 7
        }
      ]
    },
    {
      "cell_type": "code",
      "source": [
        "start = datetime.datetime.strptime(\"2015-01-01\", \"%Y-%m-%d\")\n",
        "end = datetime.datetime.strptime(\"2021-12-31\", \"%Y-%m-%d\")\n",
        "date_generated = pd.date_range(start, end)\n"
      ],
      "metadata": {
        "id": "2pdFtQhfq8Gp"
      },
      "execution_count": null,
      "outputs": []
    },
    {
      "cell_type": "code",
      "source": [
        "coins_name"
      ],
      "metadata": {
        "colab": {
          "base_uri": "https://localhost:8080/",
          "height": 370
        },
        "id": "Y7DaaXx5QK61",
        "outputId": "34531c83-96c7-4ddf-9567-5043ef512e2a"
      },
      "execution_count": null,
      "outputs": [
        {
          "output_type": "execute_result",
          "data": {
            "text/plain": [
              "           BCH         WBNB         ETH          XLM          C98  \\\n",
              "0      bch btc    wbnb coin     eth btc    xlm price     c98 coin   \n",
              "1    bch price  wbnb to bnb  eth to usd     xlm coin    c98 price   \n",
              "2  bch bitcoin   wbnb price   eth price  stellar xlm  c98 binance   \n",
              "3      bch usd  wbnb crypto     eth usd      stellar   c98 crypto   \n",
              "\n",
              "              JASMY             AVAX             SHIB           KRW  \\\n",
              "0        coin jasmy        avax coin        shib coin       usd krw   \n",
              "1       jasmy price       avax yorum       shib price    usd to krw   \n",
              "2      jasmy crypto       avax price  shib coin price       krw sgd   \n",
              "3  jasmy coin price  avax coin yorum      shib crypto  currency krw   \n",
              "\n",
              "          XRP  ...               MKR             TRY               DASH  \\\n",
              "0   xrp price  ...        MKR crypto      TRY crypto        DASH crypto   \n",
              "1    xrp news  ...  mkr crypto price         usd try  dash crypto price   \n",
              "2  ripple xrp  ...         mkr price        try coin         dash price   \n",
              "3      ripple  ...          mkr coin  try coin yorum          dash coin   \n",
              "\n",
              "                SAND            XMR               AAVE             JST  \\\n",
              "0        SAND crypto     XMR crypto        AAVE crypto        JST coin   \n",
              "1  sand crypto price         monero  aave crypto price      JST crypto   \n",
              "2         sand price  monero crypto         aave price  jst coin price   \n",
              "3          sand coin     monero xmr          aave coin       just coin   \n",
              "\n",
              "                DAR           REP                    ICP  \n",
              "0        DAR crypto    REP crypto             ICP crypto  \n",
              "1  dar crypto price      rep coin       icp crypto price  \n",
              "2          dar coin     augur rep              icp price  \n",
              "3   dalarnia crypto  augur crypto  icp crypto prediction  \n",
              "\n",
              "[4 rows x 82 columns]"
            ],
            "text/html": [
              "\n",
              "  <div id=\"df-0de5dacb-41cf-42bb-ba08-eea6f628376c\">\n",
              "    <div class=\"colab-df-container\">\n",
              "      <div>\n",
              "<style scoped>\n",
              "    .dataframe tbody tr th:only-of-type {\n",
              "        vertical-align: middle;\n",
              "    }\n",
              "\n",
              "    .dataframe tbody tr th {\n",
              "        vertical-align: top;\n",
              "    }\n",
              "\n",
              "    .dataframe thead th {\n",
              "        text-align: right;\n",
              "    }\n",
              "</style>\n",
              "<table border=\"1\" class=\"dataframe\">\n",
              "  <thead>\n",
              "    <tr style=\"text-align: right;\">\n",
              "      <th></th>\n",
              "      <th>BCH</th>\n",
              "      <th>WBNB</th>\n",
              "      <th>ETH</th>\n",
              "      <th>XLM</th>\n",
              "      <th>C98</th>\n",
              "      <th>JASMY</th>\n",
              "      <th>AVAX</th>\n",
              "      <th>SHIB</th>\n",
              "      <th>KRW</th>\n",
              "      <th>XRP</th>\n",
              "      <th>...</th>\n",
              "      <th>MKR</th>\n",
              "      <th>TRY</th>\n",
              "      <th>DASH</th>\n",
              "      <th>SAND</th>\n",
              "      <th>XMR</th>\n",
              "      <th>AAVE</th>\n",
              "      <th>JST</th>\n",
              "      <th>DAR</th>\n",
              "      <th>REP</th>\n",
              "      <th>ICP</th>\n",
              "    </tr>\n",
              "  </thead>\n",
              "  <tbody>\n",
              "    <tr>\n",
              "      <th>0</th>\n",
              "      <td>bch btc</td>\n",
              "      <td>wbnb coin</td>\n",
              "      <td>eth btc</td>\n",
              "      <td>xlm price</td>\n",
              "      <td>c98 coin</td>\n",
              "      <td>coin jasmy</td>\n",
              "      <td>avax coin</td>\n",
              "      <td>shib coin</td>\n",
              "      <td>usd krw</td>\n",
              "      <td>xrp price</td>\n",
              "      <td>...</td>\n",
              "      <td>MKR crypto</td>\n",
              "      <td>TRY crypto</td>\n",
              "      <td>DASH crypto</td>\n",
              "      <td>SAND crypto</td>\n",
              "      <td>XMR crypto</td>\n",
              "      <td>AAVE crypto</td>\n",
              "      <td>JST coin</td>\n",
              "      <td>DAR crypto</td>\n",
              "      <td>REP crypto</td>\n",
              "      <td>ICP crypto</td>\n",
              "    </tr>\n",
              "    <tr>\n",
              "      <th>1</th>\n",
              "      <td>bch price</td>\n",
              "      <td>wbnb to bnb</td>\n",
              "      <td>eth to usd</td>\n",
              "      <td>xlm coin</td>\n",
              "      <td>c98 price</td>\n",
              "      <td>jasmy price</td>\n",
              "      <td>avax yorum</td>\n",
              "      <td>shib price</td>\n",
              "      <td>usd to krw</td>\n",
              "      <td>xrp news</td>\n",
              "      <td>...</td>\n",
              "      <td>mkr crypto price</td>\n",
              "      <td>usd try</td>\n",
              "      <td>dash crypto price</td>\n",
              "      <td>sand crypto price</td>\n",
              "      <td>monero</td>\n",
              "      <td>aave crypto price</td>\n",
              "      <td>JST crypto</td>\n",
              "      <td>dar crypto price</td>\n",
              "      <td>rep coin</td>\n",
              "      <td>icp crypto price</td>\n",
              "    </tr>\n",
              "    <tr>\n",
              "      <th>2</th>\n",
              "      <td>bch bitcoin</td>\n",
              "      <td>wbnb price</td>\n",
              "      <td>eth price</td>\n",
              "      <td>stellar xlm</td>\n",
              "      <td>c98 binance</td>\n",
              "      <td>jasmy crypto</td>\n",
              "      <td>avax price</td>\n",
              "      <td>shib coin price</td>\n",
              "      <td>krw sgd</td>\n",
              "      <td>ripple xrp</td>\n",
              "      <td>...</td>\n",
              "      <td>mkr price</td>\n",
              "      <td>try coin</td>\n",
              "      <td>dash price</td>\n",
              "      <td>sand price</td>\n",
              "      <td>monero crypto</td>\n",
              "      <td>aave price</td>\n",
              "      <td>jst coin price</td>\n",
              "      <td>dar coin</td>\n",
              "      <td>augur rep</td>\n",
              "      <td>icp price</td>\n",
              "    </tr>\n",
              "    <tr>\n",
              "      <th>3</th>\n",
              "      <td>bch usd</td>\n",
              "      <td>wbnb crypto</td>\n",
              "      <td>eth usd</td>\n",
              "      <td>stellar</td>\n",
              "      <td>c98 crypto</td>\n",
              "      <td>jasmy coin price</td>\n",
              "      <td>avax coin yorum</td>\n",
              "      <td>shib crypto</td>\n",
              "      <td>currency krw</td>\n",
              "      <td>ripple</td>\n",
              "      <td>...</td>\n",
              "      <td>mkr coin</td>\n",
              "      <td>try coin yorum</td>\n",
              "      <td>dash coin</td>\n",
              "      <td>sand coin</td>\n",
              "      <td>monero xmr</td>\n",
              "      <td>aave coin</td>\n",
              "      <td>just coin</td>\n",
              "      <td>dalarnia crypto</td>\n",
              "      <td>augur crypto</td>\n",
              "      <td>icp crypto prediction</td>\n",
              "    </tr>\n",
              "  </tbody>\n",
              "</table>\n",
              "<p>4 rows × 82 columns</p>\n",
              "</div>\n",
              "      <button class=\"colab-df-convert\" onclick=\"convertToInteractive('df-0de5dacb-41cf-42bb-ba08-eea6f628376c')\"\n",
              "              title=\"Convert this dataframe to an interactive table.\"\n",
              "              style=\"display:none;\">\n",
              "        \n",
              "  <svg xmlns=\"http://www.w3.org/2000/svg\" height=\"24px\"viewBox=\"0 0 24 24\"\n",
              "       width=\"24px\">\n",
              "    <path d=\"M0 0h24v24H0V0z\" fill=\"none\"/>\n",
              "    <path d=\"M18.56 5.44l.94 2.06.94-2.06 2.06-.94-2.06-.94-.94-2.06-.94 2.06-2.06.94zm-11 1L8.5 8.5l.94-2.06 2.06-.94-2.06-.94L8.5 2.5l-.94 2.06-2.06.94zm10 10l.94 2.06.94-2.06 2.06-.94-2.06-.94-.94-2.06-.94 2.06-2.06.94z\"/><path d=\"M17.41 7.96l-1.37-1.37c-.4-.4-.92-.59-1.43-.59-.52 0-1.04.2-1.43.59L10.3 9.45l-7.72 7.72c-.78.78-.78 2.05 0 2.83L4 21.41c.39.39.9.59 1.41.59.51 0 1.02-.2 1.41-.59l7.78-7.78 2.81-2.81c.8-.78.8-2.07 0-2.86zM5.41 20L4 18.59l7.72-7.72 1.47 1.35L5.41 20z\"/>\n",
              "  </svg>\n",
              "      </button>\n",
              "      \n",
              "  <style>\n",
              "    .colab-df-container {\n",
              "      display:flex;\n",
              "      flex-wrap:wrap;\n",
              "      gap: 12px;\n",
              "    }\n",
              "\n",
              "    .colab-df-convert {\n",
              "      background-color: #E8F0FE;\n",
              "      border: none;\n",
              "      border-radius: 50%;\n",
              "      cursor: pointer;\n",
              "      display: none;\n",
              "      fill: #1967D2;\n",
              "      height: 32px;\n",
              "      padding: 0 0 0 0;\n",
              "      width: 32px;\n",
              "    }\n",
              "\n",
              "    .colab-df-convert:hover {\n",
              "      background-color: #E2EBFA;\n",
              "      box-shadow: 0px 1px 2px rgba(60, 64, 67, 0.3), 0px 1px 3px 1px rgba(60, 64, 67, 0.15);\n",
              "      fill: #174EA6;\n",
              "    }\n",
              "\n",
              "    [theme=dark] .colab-df-convert {\n",
              "      background-color: #3B4455;\n",
              "      fill: #D2E3FC;\n",
              "    }\n",
              "\n",
              "    [theme=dark] .colab-df-convert:hover {\n",
              "      background-color: #434B5C;\n",
              "      box-shadow: 0px 1px 3px 1px rgba(0, 0, 0, 0.15);\n",
              "      filter: drop-shadow(0px 1px 2px rgba(0, 0, 0, 0.3));\n",
              "      fill: #FFFFFF;\n",
              "    }\n",
              "  </style>\n",
              "\n",
              "      <script>\n",
              "        const buttonEl =\n",
              "          document.querySelector('#df-0de5dacb-41cf-42bb-ba08-eea6f628376c button.colab-df-convert');\n",
              "        buttonEl.style.display =\n",
              "          google.colab.kernel.accessAllowed ? 'block' : 'none';\n",
              "\n",
              "        async function convertToInteractive(key) {\n",
              "          const element = document.querySelector('#df-0de5dacb-41cf-42bb-ba08-eea6f628376c');\n",
              "          const dataTable =\n",
              "            await google.colab.kernel.invokeFunction('convertToInteractive',\n",
              "                                                     [key], {});\n",
              "          if (!dataTable) return;\n",
              "\n",
              "          const docLinkHtml = 'Like what you see? Visit the ' +\n",
              "            '<a target=\"_blank\" href=https://colab.research.google.com/notebooks/data_table.ipynb>data table notebook</a>'\n",
              "            + ' to learn more about interactive tables.';\n",
              "          element.innerHTML = '';\n",
              "          dataTable['output_type'] = 'display_data';\n",
              "          await google.colab.output.renderOutput(dataTable, element);\n",
              "          const docLink = document.createElement('div');\n",
              "          docLink.innerHTML = docLinkHtml;\n",
              "          element.appendChild(docLink);\n",
              "        }\n",
              "      </script>\n",
              "    </div>\n",
              "  </div>\n",
              "  "
            ]
          },
          "metadata": {},
          "execution_count": 11
        }
      ]
    },
    {
      "cell_type": "code",
      "source": [
        "coins = list(coins_name.columns)"
      ],
      "metadata": {
        "id": "Ng4A2hA-0wob"
      },
      "execution_count": null,
      "outputs": []
    },
    {
      "cell_type": "code",
      "source": [
        "len(coins)"
      ],
      "metadata": {
        "colab": {
          "base_uri": "https://localhost:8080/"
        },
        "id": "xoDhaW0EwE0-",
        "outputId": "b7c02947-42f7-4f5c-f637-dce4268993cf"
      },
      "execution_count": null,
      "outputs": [
        {
          "output_type": "execute_result",
          "data": {
            "text/plain": [
              "82"
            ]
          },
          "metadata": {},
          "execution_count": 9
        }
      ]
    },
    {
      "cell_type": "code",
      "source": [
        "idx = coins.index('TRX')\n",
        "idx"
      ],
      "metadata": {
        "colab": {
          "base_uri": "https://localhost:8080/"
        },
        "id": "qWKJRhcpzLWg",
        "outputId": "608c8a2b-9f6f-421e-ca96-8493ab0cff93"
      },
      "execution_count": null,
      "outputs": [
        {
          "output_type": "execute_result",
          "data": {
            "text/plain": [
              "39"
            ]
          },
          "metadata": {},
          "execution_count": 19
        }
      ]
    },
    {
      "cell_type": "code",
      "source": [
        "data_daily_df5 = pd.DataFrame(date_generated, columns=['date'])\n",
        "pytrend = TrendReq()\n",
        "\n",
        "coins = coins[70:]\n",
        "\n",
        "year_lst = [2015, 2016, 2017, 2018, 2019, 2020, 2021]\n",
        "month_day = [('01', '01'), ('04', '01'), ('04', '02'), ('07', '01'), ('07', '02'), ('10', '01'), ('10', '02'), ('12', '31')]\n",
        "\n",
        "for coin in tqdm(coins):\n",
        "    kw_lst = list(coins_name[coin])\n",
        "    coin_df = pd.DataFrame()\n",
        "    for year in year_lst:\n",
        "        for i in range(0, len(month_day), 2):\n",
        "            # print(f'{year}-{month}-{day}')\n",
        "            pytrend.build_payload(kw_lst, cat=0, \n",
        "                               timeframe=f'{year}-{month_day[i][0]}-{month_day[i][1]} {year}-{month_day[i+1][0]}-{month_day[i+1][1]}')\n",
        "            tmp_df = pytrend.interest_over_time()\n",
        "            tmp_df = tmp_df.reset_index()\n",
        "            \n",
        "            coin_df = coin_df.append(tmp_df, ignore_index=True)\n",
        "        time.sleep(5)\n",
        "    coin_df = coin_df.drop(['isPartial'], axis=1)\n",
        "    # data_daily_df = pd.concat(data_daily_df, coin_df, axis=0)\n",
        "    # data_daily_df = data_daily_df.join(coin_df)\n",
        "    data_daily_df5 = pd.merge(data_daily_df5, coin_df, how='outer', on='date')\n"
      ],
      "metadata": {
        "colab": {
          "base_uri": "https://localhost:8080/"
        },
        "id": "NYvDE0a6jrRL",
        "outputId": "bafcd4e5-f494-4770-e5f8-f65f9692c38f"
      },
      "execution_count": null,
      "outputs": [
        {
          "output_type": "stream",
          "name": "stderr",
          "text": [
            "100%|██████████| 12/12 [08:48<00:00, 44.01s/it]\n"
          ]
        }
      ]
    },
    {
      "cell_type": "code",
      "source": [
        "data_daily_df5\n"
      ],
      "metadata": {
        "colab": {
          "base_uri": "https://localhost:8080/",
          "height": 676
        },
        "id": "MdNkhrhi__yA",
        "outputId": "cfe45911-31f1-4c45-916c-dec72349d293"
      },
      "execution_count": null,
      "outputs": [
        {
          "output_type": "execute_result",
          "data": {
            "text/plain": [
              "           date  RSR crypto  rsr crypto price  rsr price  rsr coin  \\\n",
              "0    2015-01-01           0                 0          0         0   \n",
              "1    2015-01-02           0                 0          0         0   \n",
              "2    2015-01-03           0                 0          0         0   \n",
              "3    2015-01-04           0                 0          0         0   \n",
              "4    2015-01-05           0                 0          0         0   \n",
              "...         ...         ...               ...        ...       ...   \n",
              "2552 2021-12-27           0                 0          0         7   \n",
              "2553 2021-12-28           0                 0          0         4   \n",
              "2554 2021-12-29           0                 0          4         7   \n",
              "2555 2021-12-30           0                 0          2         0   \n",
              "2556 2021-12-31           0                 0          6         2   \n",
              "\n",
              "      LUNA crypto  terra luna crypto  terra luna  luna crypto price  \\\n",
              "0               0                  0          40                  0   \n",
              "1               0                  0          21                  0   \n",
              "2               0                  0          39                  0   \n",
              "3               0                  0          33                  0   \n",
              "4               0                  0          40                  0   \n",
              "...           ...                ...         ...                ...   \n",
              "2552           40                  7          64                  7   \n",
              "2553           29                  7          61                  6   \n",
              "2554           28                  7          49                  7   \n",
              "2555           25                  6          60                  6   \n",
              "2556           29                  3          41                  9   \n",
              "\n",
              "       MKR crypto  ...  dar coin  dalarnia crypto  REP crypto  rep coin  \\\n",
              "0               0  ...        57                0           0         0   \n",
              "1               0  ...         0                0           0        29   \n",
              "2               0  ...         0                0           0         0   \n",
              "3               0  ...        51                0           0         0   \n",
              "4               0  ...         0                0           0         0   \n",
              "...           ...  ...       ...              ...         ...       ...   \n",
              "2552            0  ...         3                0           0        35   \n",
              "2553            4  ...         2                0           0         0   \n",
              "2554            8  ...         1                0           0         0   \n",
              "2555            0  ...         0                0           0         0   \n",
              "2556            4  ...         1                0          39         0   \n",
              "\n",
              "      augur rep  augur crypto   ICP crypto  icp crypto price  icp price  \\\n",
              "0             0             0            0                 0          0   \n",
              "1             0             0            0                 0          0   \n",
              "2             0             0            0                 0          0   \n",
              "3             0             0            0                 0          0   \n",
              "4             0             0            0                 0         25   \n",
              "...         ...           ...          ...               ...        ...   \n",
              "2552          0            35           42                 8         42   \n",
              "2553          0            34           30                 4         23   \n",
              "2554          0            35           31                 8         31   \n",
              "2555          0             0           20                 0         44   \n",
              "2556          0             0           33                 0         21   \n",
              "\n",
              "      icp crypto prediction  \n",
              "0                         0  \n",
              "1                         0  \n",
              "2                         0  \n",
              "3                         0  \n",
              "4                         0  \n",
              "...                     ...  \n",
              "2552                      4  \n",
              "2553                      4  \n",
              "2554                      4  \n",
              "2555                      0  \n",
              "2556                      0  \n",
              "\n",
              "[2557 rows x 50 columns]"
            ],
            "text/html": [
              "\n",
              "  <div id=\"df-f746e6ed-e1cf-4191-bbf9-473ccb2c613d\">\n",
              "    <div class=\"colab-df-container\">\n",
              "      <div>\n",
              "<style scoped>\n",
              "    .dataframe tbody tr th:only-of-type {\n",
              "        vertical-align: middle;\n",
              "    }\n",
              "\n",
              "    .dataframe tbody tr th {\n",
              "        vertical-align: top;\n",
              "    }\n",
              "\n",
              "    .dataframe thead th {\n",
              "        text-align: right;\n",
              "    }\n",
              "</style>\n",
              "<table border=\"1\" class=\"dataframe\">\n",
              "  <thead>\n",
              "    <tr style=\"text-align: right;\">\n",
              "      <th></th>\n",
              "      <th>date</th>\n",
              "      <th>RSR crypto</th>\n",
              "      <th>rsr crypto price</th>\n",
              "      <th>rsr price</th>\n",
              "      <th>rsr coin</th>\n",
              "      <th>LUNA crypto</th>\n",
              "      <th>terra luna crypto</th>\n",
              "      <th>terra luna</th>\n",
              "      <th>luna crypto price</th>\n",
              "      <th>MKR crypto</th>\n",
              "      <th>...</th>\n",
              "      <th>dar coin</th>\n",
              "      <th>dalarnia crypto</th>\n",
              "      <th>REP crypto</th>\n",
              "      <th>rep coin</th>\n",
              "      <th>augur rep</th>\n",
              "      <th>augur crypto</th>\n",
              "      <th>ICP crypto</th>\n",
              "      <th>icp crypto price</th>\n",
              "      <th>icp price</th>\n",
              "      <th>icp crypto prediction</th>\n",
              "    </tr>\n",
              "  </thead>\n",
              "  <tbody>\n",
              "    <tr>\n",
              "      <th>0</th>\n",
              "      <td>2015-01-01</td>\n",
              "      <td>0</td>\n",
              "      <td>0</td>\n",
              "      <td>0</td>\n",
              "      <td>0</td>\n",
              "      <td>0</td>\n",
              "      <td>0</td>\n",
              "      <td>40</td>\n",
              "      <td>0</td>\n",
              "      <td>0</td>\n",
              "      <td>...</td>\n",
              "      <td>57</td>\n",
              "      <td>0</td>\n",
              "      <td>0</td>\n",
              "      <td>0</td>\n",
              "      <td>0</td>\n",
              "      <td>0</td>\n",
              "      <td>0</td>\n",
              "      <td>0</td>\n",
              "      <td>0</td>\n",
              "      <td>0</td>\n",
              "    </tr>\n",
              "    <tr>\n",
              "      <th>1</th>\n",
              "      <td>2015-01-02</td>\n",
              "      <td>0</td>\n",
              "      <td>0</td>\n",
              "      <td>0</td>\n",
              "      <td>0</td>\n",
              "      <td>0</td>\n",
              "      <td>0</td>\n",
              "      <td>21</td>\n",
              "      <td>0</td>\n",
              "      <td>0</td>\n",
              "      <td>...</td>\n",
              "      <td>0</td>\n",
              "      <td>0</td>\n",
              "      <td>0</td>\n",
              "      <td>29</td>\n",
              "      <td>0</td>\n",
              "      <td>0</td>\n",
              "      <td>0</td>\n",
              "      <td>0</td>\n",
              "      <td>0</td>\n",
              "      <td>0</td>\n",
              "    </tr>\n",
              "    <tr>\n",
              "      <th>2</th>\n",
              "      <td>2015-01-03</td>\n",
              "      <td>0</td>\n",
              "      <td>0</td>\n",
              "      <td>0</td>\n",
              "      <td>0</td>\n",
              "      <td>0</td>\n",
              "      <td>0</td>\n",
              "      <td>39</td>\n",
              "      <td>0</td>\n",
              "      <td>0</td>\n",
              "      <td>...</td>\n",
              "      <td>0</td>\n",
              "      <td>0</td>\n",
              "      <td>0</td>\n",
              "      <td>0</td>\n",
              "      <td>0</td>\n",
              "      <td>0</td>\n",
              "      <td>0</td>\n",
              "      <td>0</td>\n",
              "      <td>0</td>\n",
              "      <td>0</td>\n",
              "    </tr>\n",
              "    <tr>\n",
              "      <th>3</th>\n",
              "      <td>2015-01-04</td>\n",
              "      <td>0</td>\n",
              "      <td>0</td>\n",
              "      <td>0</td>\n",
              "      <td>0</td>\n",
              "      <td>0</td>\n",
              "      <td>0</td>\n",
              "      <td>33</td>\n",
              "      <td>0</td>\n",
              "      <td>0</td>\n",
              "      <td>...</td>\n",
              "      <td>51</td>\n",
              "      <td>0</td>\n",
              "      <td>0</td>\n",
              "      <td>0</td>\n",
              "      <td>0</td>\n",
              "      <td>0</td>\n",
              "      <td>0</td>\n",
              "      <td>0</td>\n",
              "      <td>0</td>\n",
              "      <td>0</td>\n",
              "    </tr>\n",
              "    <tr>\n",
              "      <th>4</th>\n",
              "      <td>2015-01-05</td>\n",
              "      <td>0</td>\n",
              "      <td>0</td>\n",
              "      <td>0</td>\n",
              "      <td>0</td>\n",
              "      <td>0</td>\n",
              "      <td>0</td>\n",
              "      <td>40</td>\n",
              "      <td>0</td>\n",
              "      <td>0</td>\n",
              "      <td>...</td>\n",
              "      <td>0</td>\n",
              "      <td>0</td>\n",
              "      <td>0</td>\n",
              "      <td>0</td>\n",
              "      <td>0</td>\n",
              "      <td>0</td>\n",
              "      <td>0</td>\n",
              "      <td>0</td>\n",
              "      <td>25</td>\n",
              "      <td>0</td>\n",
              "    </tr>\n",
              "    <tr>\n",
              "      <th>...</th>\n",
              "      <td>...</td>\n",
              "      <td>...</td>\n",
              "      <td>...</td>\n",
              "      <td>...</td>\n",
              "      <td>...</td>\n",
              "      <td>...</td>\n",
              "      <td>...</td>\n",
              "      <td>...</td>\n",
              "      <td>...</td>\n",
              "      <td>...</td>\n",
              "      <td>...</td>\n",
              "      <td>...</td>\n",
              "      <td>...</td>\n",
              "      <td>...</td>\n",
              "      <td>...</td>\n",
              "      <td>...</td>\n",
              "      <td>...</td>\n",
              "      <td>...</td>\n",
              "      <td>...</td>\n",
              "      <td>...</td>\n",
              "      <td>...</td>\n",
              "    </tr>\n",
              "    <tr>\n",
              "      <th>2552</th>\n",
              "      <td>2021-12-27</td>\n",
              "      <td>0</td>\n",
              "      <td>0</td>\n",
              "      <td>0</td>\n",
              "      <td>7</td>\n",
              "      <td>40</td>\n",
              "      <td>7</td>\n",
              "      <td>64</td>\n",
              "      <td>7</td>\n",
              "      <td>0</td>\n",
              "      <td>...</td>\n",
              "      <td>3</td>\n",
              "      <td>0</td>\n",
              "      <td>0</td>\n",
              "      <td>35</td>\n",
              "      <td>0</td>\n",
              "      <td>35</td>\n",
              "      <td>42</td>\n",
              "      <td>8</td>\n",
              "      <td>42</td>\n",
              "      <td>4</td>\n",
              "    </tr>\n",
              "    <tr>\n",
              "      <th>2553</th>\n",
              "      <td>2021-12-28</td>\n",
              "      <td>0</td>\n",
              "      <td>0</td>\n",
              "      <td>0</td>\n",
              "      <td>4</td>\n",
              "      <td>29</td>\n",
              "      <td>7</td>\n",
              "      <td>61</td>\n",
              "      <td>6</td>\n",
              "      <td>4</td>\n",
              "      <td>...</td>\n",
              "      <td>2</td>\n",
              "      <td>0</td>\n",
              "      <td>0</td>\n",
              "      <td>0</td>\n",
              "      <td>0</td>\n",
              "      <td>34</td>\n",
              "      <td>30</td>\n",
              "      <td>4</td>\n",
              "      <td>23</td>\n",
              "      <td>4</td>\n",
              "    </tr>\n",
              "    <tr>\n",
              "      <th>2554</th>\n",
              "      <td>2021-12-29</td>\n",
              "      <td>0</td>\n",
              "      <td>0</td>\n",
              "      <td>4</td>\n",
              "      <td>7</td>\n",
              "      <td>28</td>\n",
              "      <td>7</td>\n",
              "      <td>49</td>\n",
              "      <td>7</td>\n",
              "      <td>8</td>\n",
              "      <td>...</td>\n",
              "      <td>1</td>\n",
              "      <td>0</td>\n",
              "      <td>0</td>\n",
              "      <td>0</td>\n",
              "      <td>0</td>\n",
              "      <td>35</td>\n",
              "      <td>31</td>\n",
              "      <td>8</td>\n",
              "      <td>31</td>\n",
              "      <td>4</td>\n",
              "    </tr>\n",
              "    <tr>\n",
              "      <th>2555</th>\n",
              "      <td>2021-12-30</td>\n",
              "      <td>0</td>\n",
              "      <td>0</td>\n",
              "      <td>2</td>\n",
              "      <td>0</td>\n",
              "      <td>25</td>\n",
              "      <td>6</td>\n",
              "      <td>60</td>\n",
              "      <td>6</td>\n",
              "      <td>0</td>\n",
              "      <td>...</td>\n",
              "      <td>0</td>\n",
              "      <td>0</td>\n",
              "      <td>0</td>\n",
              "      <td>0</td>\n",
              "      <td>0</td>\n",
              "      <td>0</td>\n",
              "      <td>20</td>\n",
              "      <td>0</td>\n",
              "      <td>44</td>\n",
              "      <td>0</td>\n",
              "    </tr>\n",
              "    <tr>\n",
              "      <th>2556</th>\n",
              "      <td>2021-12-31</td>\n",
              "      <td>0</td>\n",
              "      <td>0</td>\n",
              "      <td>6</td>\n",
              "      <td>2</td>\n",
              "      <td>29</td>\n",
              "      <td>3</td>\n",
              "      <td>41</td>\n",
              "      <td>9</td>\n",
              "      <td>4</td>\n",
              "      <td>...</td>\n",
              "      <td>1</td>\n",
              "      <td>0</td>\n",
              "      <td>39</td>\n",
              "      <td>0</td>\n",
              "      <td>0</td>\n",
              "      <td>0</td>\n",
              "      <td>33</td>\n",
              "      <td>0</td>\n",
              "      <td>21</td>\n",
              "      <td>0</td>\n",
              "    </tr>\n",
              "  </tbody>\n",
              "</table>\n",
              "<p>2557 rows × 50 columns</p>\n",
              "</div>\n",
              "      <button class=\"colab-df-convert\" onclick=\"convertToInteractive('df-f746e6ed-e1cf-4191-bbf9-473ccb2c613d')\"\n",
              "              title=\"Convert this dataframe to an interactive table.\"\n",
              "              style=\"display:none;\">\n",
              "        \n",
              "  <svg xmlns=\"http://www.w3.org/2000/svg\" height=\"24px\"viewBox=\"0 0 24 24\"\n",
              "       width=\"24px\">\n",
              "    <path d=\"M0 0h24v24H0V0z\" fill=\"none\"/>\n",
              "    <path d=\"M18.56 5.44l.94 2.06.94-2.06 2.06-.94-2.06-.94-.94-2.06-.94 2.06-2.06.94zm-11 1L8.5 8.5l.94-2.06 2.06-.94-2.06-.94L8.5 2.5l-.94 2.06-2.06.94zm10 10l.94 2.06.94-2.06 2.06-.94-2.06-.94-.94-2.06-.94 2.06-2.06.94z\"/><path d=\"M17.41 7.96l-1.37-1.37c-.4-.4-.92-.59-1.43-.59-.52 0-1.04.2-1.43.59L10.3 9.45l-7.72 7.72c-.78.78-.78 2.05 0 2.83L4 21.41c.39.39.9.59 1.41.59.51 0 1.02-.2 1.41-.59l7.78-7.78 2.81-2.81c.8-.78.8-2.07 0-2.86zM5.41 20L4 18.59l7.72-7.72 1.47 1.35L5.41 20z\"/>\n",
              "  </svg>\n",
              "      </button>\n",
              "      \n",
              "  <style>\n",
              "    .colab-df-container {\n",
              "      display:flex;\n",
              "      flex-wrap:wrap;\n",
              "      gap: 12px;\n",
              "    }\n",
              "\n",
              "    .colab-df-convert {\n",
              "      background-color: #E8F0FE;\n",
              "      border: none;\n",
              "      border-radius: 50%;\n",
              "      cursor: pointer;\n",
              "      display: none;\n",
              "      fill: #1967D2;\n",
              "      height: 32px;\n",
              "      padding: 0 0 0 0;\n",
              "      width: 32px;\n",
              "    }\n",
              "\n",
              "    .colab-df-convert:hover {\n",
              "      background-color: #E2EBFA;\n",
              "      box-shadow: 0px 1px 2px rgba(60, 64, 67, 0.3), 0px 1px 3px 1px rgba(60, 64, 67, 0.15);\n",
              "      fill: #174EA6;\n",
              "    }\n",
              "\n",
              "    [theme=dark] .colab-df-convert {\n",
              "      background-color: #3B4455;\n",
              "      fill: #D2E3FC;\n",
              "    }\n",
              "\n",
              "    [theme=dark] .colab-df-convert:hover {\n",
              "      background-color: #434B5C;\n",
              "      box-shadow: 0px 1px 3px 1px rgba(0, 0, 0, 0.15);\n",
              "      filter: drop-shadow(0px 1px 2px rgba(0, 0, 0, 0.3));\n",
              "      fill: #FFFFFF;\n",
              "    }\n",
              "  </style>\n",
              "\n",
              "      <script>\n",
              "        const buttonEl =\n",
              "          document.querySelector('#df-f746e6ed-e1cf-4191-bbf9-473ccb2c613d button.colab-df-convert');\n",
              "        buttonEl.style.display =\n",
              "          google.colab.kernel.accessAllowed ? 'block' : 'none';\n",
              "\n",
              "        async function convertToInteractive(key) {\n",
              "          const element = document.querySelector('#df-f746e6ed-e1cf-4191-bbf9-473ccb2c613d');\n",
              "          const dataTable =\n",
              "            await google.colab.kernel.invokeFunction('convertToInteractive',\n",
              "                                                     [key], {});\n",
              "          if (!dataTable) return;\n",
              "\n",
              "          const docLinkHtml = 'Like what you see? Visit the ' +\n",
              "            '<a target=\"_blank\" href=https://colab.research.google.com/notebooks/data_table.ipynb>data table notebook</a>'\n",
              "            + ' to learn more about interactive tables.';\n",
              "          element.innerHTML = '';\n",
              "          dataTable['output_type'] = 'display_data';\n",
              "          await google.colab.output.renderOutput(dataTable, element);\n",
              "          const docLink = document.createElement('div');\n",
              "          docLink.innerHTML = docLinkHtml;\n",
              "          element.appendChild(docLink);\n",
              "        }\n",
              "      </script>\n",
              "    </div>\n",
              "  </div>\n",
              "  "
            ]
          },
          "metadata": {},
          "execution_count": 31
        }
      ]
    },
    {
      "cell_type": "code",
      "source": [
        "data_daily_df5.to_csv('GT_daily5.csv')"
      ],
      "metadata": {
        "id": "leAK_hx90EjH"
      },
      "execution_count": null,
      "outputs": []
    },
    {
      "cell_type": "code",
      "source": [
        "# Join all data in on dataset\n",
        "GT_daily = pd.read_csv('GT_daily1.csv', index_col=None)\n",
        "GT_daily2 = pd.read_csv('GT_daily2.csv', index_col=None)\n",
        "GT_daily3 = pd.read_csv('GT_daily3.csv', index_col=None)\n",
        "GT_daily4 = pd.read_csv('GT_daily4.csv', index_col=None)\n",
        "GT_daily5 = pd.read_csv('GT_daily5.csv', index_col=None)"
      ],
      "metadata": {
        "id": "yNeGASRhGp4H"
      },
      "execution_count": null,
      "outputs": []
    },
    {
      "cell_type": "code",
      "source": [
        "GT_daily"
      ],
      "metadata": {
        "colab": {
          "base_uri": "https://localhost:8080/",
          "height": 676
        },
        "id": "NrArLfMyK3zX",
        "outputId": "093c2f27-5ae7-441a-8850-a93c4e90daa4"
      },
      "execution_count": null,
      "outputs": [
        {
          "output_type": "execute_result",
          "data": {
            "text/plain": [
              "      Unnamed: 0        date  bch btc  bch price  bch bitcoin  bch usd  \\\n",
              "0              0  2015-01-01        0         57            0        0   \n",
              "1              1  2015-01-02        0          0            0        0   \n",
              "2              2  2015-01-03        0          0            0        0   \n",
              "3              3  2015-01-04        0         51            0        0   \n",
              "4              4  2015-01-05        0          0            0        0   \n",
              "...          ...         ...      ...        ...          ...      ...   \n",
              "2552        2552  2021-12-27       25         13           25       13   \n",
              "2553        2553  2021-12-28       44         25           31       37   \n",
              "2554        2554  2021-12-29       50          6           13       57   \n",
              "2555        2555  2021-12-30       20         46           20       26   \n",
              "2556        2556  2021-12-31       62         35           35       14   \n",
              "\n",
              "      wbnb coin  wbnb to bnb  wbnb price  wbnb crypto  ...  btc to usd  \\\n",
              "0           NaN          NaN         NaN          NaN  ...          35   \n",
              "1           NaN          NaN         NaN          NaN  ...          47   \n",
              "2           NaN          NaN         NaN          NaN  ...          29   \n",
              "3           NaN          NaN         NaN          NaN  ...          75   \n",
              "4           NaN          NaN         NaN          NaN  ...          45   \n",
              "...         ...          ...         ...          ...  ...         ...   \n",
              "2552       31.0         15.0        15.0         15.0  ...          22   \n",
              "2553       15.0         30.0         0.0         15.0  ...          25   \n",
              "2554        0.0         15.0         0.0          0.0  ...          23   \n",
              "2555       16.0         32.0         0.0         16.0  ...          24   \n",
              "2556       67.0         17.0        17.0         17.0  ...          21   \n",
              "\n",
              "      btc price  doge coin  doge price  dogecoin  doge yorum  ltc usd  \\\n",
              "0            11          6           2        60           0        0   \n",
              "1             5         10           0        66           0       30   \n",
              "2             8          7           6        59           0       64   \n",
              "3            19          2           2       100           0       63   \n",
              "4            22          5           2        90           0       27   \n",
              "...         ...        ...         ...       ...         ...      ...   \n",
              "2552         22          4           2        28           1       19   \n",
              "2553         24          3           1        26           1       34   \n",
              "2554         24          3           2        26           1       26   \n",
              "2555         24          3           2        27           0       40   \n",
              "2556         21          3           1        23           1       25   \n",
              "\n",
              "      ltc btc  ltc price  usd to ltc  \n",
              "0          36         33           0  \n",
              "1           0         29          30  \n",
              "2          33         60           0  \n",
              "3          32         30          31  \n",
              "4          55         77           0  \n",
              "...       ...        ...         ...  \n",
              "2552       10         19          13  \n",
              "2553       26         23          17  \n",
              "2554       22         23          14  \n",
              "2555       21         22          27  \n",
              "2556       17         17          14  \n",
              "\n",
              "[2557 rows x 82 columns]"
            ],
            "text/html": [
              "\n",
              "  <div id=\"df-67ec2d14-cef2-4f56-afc7-87852ebf4056\">\n",
              "    <div class=\"colab-df-container\">\n",
              "      <div>\n",
              "<style scoped>\n",
              "    .dataframe tbody tr th:only-of-type {\n",
              "        vertical-align: middle;\n",
              "    }\n",
              "\n",
              "    .dataframe tbody tr th {\n",
              "        vertical-align: top;\n",
              "    }\n",
              "\n",
              "    .dataframe thead th {\n",
              "        text-align: right;\n",
              "    }\n",
              "</style>\n",
              "<table border=\"1\" class=\"dataframe\">\n",
              "  <thead>\n",
              "    <tr style=\"text-align: right;\">\n",
              "      <th></th>\n",
              "      <th>Unnamed: 0</th>\n",
              "      <th>date</th>\n",
              "      <th>bch btc</th>\n",
              "      <th>bch price</th>\n",
              "      <th>bch bitcoin</th>\n",
              "      <th>bch usd</th>\n",
              "      <th>wbnb coin</th>\n",
              "      <th>wbnb to bnb</th>\n",
              "      <th>wbnb price</th>\n",
              "      <th>wbnb crypto</th>\n",
              "      <th>...</th>\n",
              "      <th>btc to usd</th>\n",
              "      <th>btc price</th>\n",
              "      <th>doge coin</th>\n",
              "      <th>doge price</th>\n",
              "      <th>dogecoin</th>\n",
              "      <th>doge yorum</th>\n",
              "      <th>ltc usd</th>\n",
              "      <th>ltc btc</th>\n",
              "      <th>ltc price</th>\n",
              "      <th>usd to ltc</th>\n",
              "    </tr>\n",
              "  </thead>\n",
              "  <tbody>\n",
              "    <tr>\n",
              "      <th>0</th>\n",
              "      <td>0</td>\n",
              "      <td>2015-01-01</td>\n",
              "      <td>0</td>\n",
              "      <td>57</td>\n",
              "      <td>0</td>\n",
              "      <td>0</td>\n",
              "      <td>NaN</td>\n",
              "      <td>NaN</td>\n",
              "      <td>NaN</td>\n",
              "      <td>NaN</td>\n",
              "      <td>...</td>\n",
              "      <td>35</td>\n",
              "      <td>11</td>\n",
              "      <td>6</td>\n",
              "      <td>2</td>\n",
              "      <td>60</td>\n",
              "      <td>0</td>\n",
              "      <td>0</td>\n",
              "      <td>36</td>\n",
              "      <td>33</td>\n",
              "      <td>0</td>\n",
              "    </tr>\n",
              "    <tr>\n",
              "      <th>1</th>\n",
              "      <td>1</td>\n",
              "      <td>2015-01-02</td>\n",
              "      <td>0</td>\n",
              "      <td>0</td>\n",
              "      <td>0</td>\n",
              "      <td>0</td>\n",
              "      <td>NaN</td>\n",
              "      <td>NaN</td>\n",
              "      <td>NaN</td>\n",
              "      <td>NaN</td>\n",
              "      <td>...</td>\n",
              "      <td>47</td>\n",
              "      <td>5</td>\n",
              "      <td>10</td>\n",
              "      <td>0</td>\n",
              "      <td>66</td>\n",
              "      <td>0</td>\n",
              "      <td>30</td>\n",
              "      <td>0</td>\n",
              "      <td>29</td>\n",
              "      <td>30</td>\n",
              "    </tr>\n",
              "    <tr>\n",
              "      <th>2</th>\n",
              "      <td>2</td>\n",
              "      <td>2015-01-03</td>\n",
              "      <td>0</td>\n",
              "      <td>0</td>\n",
              "      <td>0</td>\n",
              "      <td>0</td>\n",
              "      <td>NaN</td>\n",
              "      <td>NaN</td>\n",
              "      <td>NaN</td>\n",
              "      <td>NaN</td>\n",
              "      <td>...</td>\n",
              "      <td>29</td>\n",
              "      <td>8</td>\n",
              "      <td>7</td>\n",
              "      <td>6</td>\n",
              "      <td>59</td>\n",
              "      <td>0</td>\n",
              "      <td>64</td>\n",
              "      <td>33</td>\n",
              "      <td>60</td>\n",
              "      <td>0</td>\n",
              "    </tr>\n",
              "    <tr>\n",
              "      <th>3</th>\n",
              "      <td>3</td>\n",
              "      <td>2015-01-04</td>\n",
              "      <td>0</td>\n",
              "      <td>51</td>\n",
              "      <td>0</td>\n",
              "      <td>0</td>\n",
              "      <td>NaN</td>\n",
              "      <td>NaN</td>\n",
              "      <td>NaN</td>\n",
              "      <td>NaN</td>\n",
              "      <td>...</td>\n",
              "      <td>75</td>\n",
              "      <td>19</td>\n",
              "      <td>2</td>\n",
              "      <td>2</td>\n",
              "      <td>100</td>\n",
              "      <td>0</td>\n",
              "      <td>63</td>\n",
              "      <td>32</td>\n",
              "      <td>30</td>\n",
              "      <td>31</td>\n",
              "    </tr>\n",
              "    <tr>\n",
              "      <th>4</th>\n",
              "      <td>4</td>\n",
              "      <td>2015-01-05</td>\n",
              "      <td>0</td>\n",
              "      <td>0</td>\n",
              "      <td>0</td>\n",
              "      <td>0</td>\n",
              "      <td>NaN</td>\n",
              "      <td>NaN</td>\n",
              "      <td>NaN</td>\n",
              "      <td>NaN</td>\n",
              "      <td>...</td>\n",
              "      <td>45</td>\n",
              "      <td>22</td>\n",
              "      <td>5</td>\n",
              "      <td>2</td>\n",
              "      <td>90</td>\n",
              "      <td>0</td>\n",
              "      <td>27</td>\n",
              "      <td>55</td>\n",
              "      <td>77</td>\n",
              "      <td>0</td>\n",
              "    </tr>\n",
              "    <tr>\n",
              "      <th>...</th>\n",
              "      <td>...</td>\n",
              "      <td>...</td>\n",
              "      <td>...</td>\n",
              "      <td>...</td>\n",
              "      <td>...</td>\n",
              "      <td>...</td>\n",
              "      <td>...</td>\n",
              "      <td>...</td>\n",
              "      <td>...</td>\n",
              "      <td>...</td>\n",
              "      <td>...</td>\n",
              "      <td>...</td>\n",
              "      <td>...</td>\n",
              "      <td>...</td>\n",
              "      <td>...</td>\n",
              "      <td>...</td>\n",
              "      <td>...</td>\n",
              "      <td>...</td>\n",
              "      <td>...</td>\n",
              "      <td>...</td>\n",
              "      <td>...</td>\n",
              "    </tr>\n",
              "    <tr>\n",
              "      <th>2552</th>\n",
              "      <td>2552</td>\n",
              "      <td>2021-12-27</td>\n",
              "      <td>25</td>\n",
              "      <td>13</td>\n",
              "      <td>25</td>\n",
              "      <td>13</td>\n",
              "      <td>31.0</td>\n",
              "      <td>15.0</td>\n",
              "      <td>15.0</td>\n",
              "      <td>15.0</td>\n",
              "      <td>...</td>\n",
              "      <td>22</td>\n",
              "      <td>22</td>\n",
              "      <td>4</td>\n",
              "      <td>2</td>\n",
              "      <td>28</td>\n",
              "      <td>1</td>\n",
              "      <td>19</td>\n",
              "      <td>10</td>\n",
              "      <td>19</td>\n",
              "      <td>13</td>\n",
              "    </tr>\n",
              "    <tr>\n",
              "      <th>2553</th>\n",
              "      <td>2553</td>\n",
              "      <td>2021-12-28</td>\n",
              "      <td>44</td>\n",
              "      <td>25</td>\n",
              "      <td>31</td>\n",
              "      <td>37</td>\n",
              "      <td>15.0</td>\n",
              "      <td>30.0</td>\n",
              "      <td>0.0</td>\n",
              "      <td>15.0</td>\n",
              "      <td>...</td>\n",
              "      <td>25</td>\n",
              "      <td>24</td>\n",
              "      <td>3</td>\n",
              "      <td>1</td>\n",
              "      <td>26</td>\n",
              "      <td>1</td>\n",
              "      <td>34</td>\n",
              "      <td>26</td>\n",
              "      <td>23</td>\n",
              "      <td>17</td>\n",
              "    </tr>\n",
              "    <tr>\n",
              "      <th>2554</th>\n",
              "      <td>2554</td>\n",
              "      <td>2021-12-29</td>\n",
              "      <td>50</td>\n",
              "      <td>6</td>\n",
              "      <td>13</td>\n",
              "      <td>57</td>\n",
              "      <td>0.0</td>\n",
              "      <td>15.0</td>\n",
              "      <td>0.0</td>\n",
              "      <td>0.0</td>\n",
              "      <td>...</td>\n",
              "      <td>23</td>\n",
              "      <td>24</td>\n",
              "      <td>3</td>\n",
              "      <td>2</td>\n",
              "      <td>26</td>\n",
              "      <td>1</td>\n",
              "      <td>26</td>\n",
              "      <td>22</td>\n",
              "      <td>23</td>\n",
              "      <td>14</td>\n",
              "    </tr>\n",
              "    <tr>\n",
              "      <th>2555</th>\n",
              "      <td>2555</td>\n",
              "      <td>2021-12-30</td>\n",
              "      <td>20</td>\n",
              "      <td>46</td>\n",
              "      <td>20</td>\n",
              "      <td>26</td>\n",
              "      <td>16.0</td>\n",
              "      <td>32.0</td>\n",
              "      <td>0.0</td>\n",
              "      <td>16.0</td>\n",
              "      <td>...</td>\n",
              "      <td>24</td>\n",
              "      <td>24</td>\n",
              "      <td>3</td>\n",
              "      <td>2</td>\n",
              "      <td>27</td>\n",
              "      <td>0</td>\n",
              "      <td>40</td>\n",
              "      <td>21</td>\n",
              "      <td>22</td>\n",
              "      <td>27</td>\n",
              "    </tr>\n",
              "    <tr>\n",
              "      <th>2556</th>\n",
              "      <td>2556</td>\n",
              "      <td>2021-12-31</td>\n",
              "      <td>62</td>\n",
              "      <td>35</td>\n",
              "      <td>35</td>\n",
              "      <td>14</td>\n",
              "      <td>67.0</td>\n",
              "      <td>17.0</td>\n",
              "      <td>17.0</td>\n",
              "      <td>17.0</td>\n",
              "      <td>...</td>\n",
              "      <td>21</td>\n",
              "      <td>21</td>\n",
              "      <td>3</td>\n",
              "      <td>1</td>\n",
              "      <td>23</td>\n",
              "      <td>1</td>\n",
              "      <td>25</td>\n",
              "      <td>17</td>\n",
              "      <td>17</td>\n",
              "      <td>14</td>\n",
              "    </tr>\n",
              "  </tbody>\n",
              "</table>\n",
              "<p>2557 rows × 82 columns</p>\n",
              "</div>\n",
              "      <button class=\"colab-df-convert\" onclick=\"convertToInteractive('df-67ec2d14-cef2-4f56-afc7-87852ebf4056')\"\n",
              "              title=\"Convert this dataframe to an interactive table.\"\n",
              "              style=\"display:none;\">\n",
              "        \n",
              "  <svg xmlns=\"http://www.w3.org/2000/svg\" height=\"24px\"viewBox=\"0 0 24 24\"\n",
              "       width=\"24px\">\n",
              "    <path d=\"M0 0h24v24H0V0z\" fill=\"none\"/>\n",
              "    <path d=\"M18.56 5.44l.94 2.06.94-2.06 2.06-.94-2.06-.94-.94-2.06-.94 2.06-2.06.94zm-11 1L8.5 8.5l.94-2.06 2.06-.94-2.06-.94L8.5 2.5l-.94 2.06-2.06.94zm10 10l.94 2.06.94-2.06 2.06-.94-2.06-.94-.94-2.06-.94 2.06-2.06.94z\"/><path d=\"M17.41 7.96l-1.37-1.37c-.4-.4-.92-.59-1.43-.59-.52 0-1.04.2-1.43.59L10.3 9.45l-7.72 7.72c-.78.78-.78 2.05 0 2.83L4 21.41c.39.39.9.59 1.41.59.51 0 1.02-.2 1.41-.59l7.78-7.78 2.81-2.81c.8-.78.8-2.07 0-2.86zM5.41 20L4 18.59l7.72-7.72 1.47 1.35L5.41 20z\"/>\n",
              "  </svg>\n",
              "      </button>\n",
              "      \n",
              "  <style>\n",
              "    .colab-df-container {\n",
              "      display:flex;\n",
              "      flex-wrap:wrap;\n",
              "      gap: 12px;\n",
              "    }\n",
              "\n",
              "    .colab-df-convert {\n",
              "      background-color: #E8F0FE;\n",
              "      border: none;\n",
              "      border-radius: 50%;\n",
              "      cursor: pointer;\n",
              "      display: none;\n",
              "      fill: #1967D2;\n",
              "      height: 32px;\n",
              "      padding: 0 0 0 0;\n",
              "      width: 32px;\n",
              "    }\n",
              "\n",
              "    .colab-df-convert:hover {\n",
              "      background-color: #E2EBFA;\n",
              "      box-shadow: 0px 1px 2px rgba(60, 64, 67, 0.3), 0px 1px 3px 1px rgba(60, 64, 67, 0.15);\n",
              "      fill: #174EA6;\n",
              "    }\n",
              "\n",
              "    [theme=dark] .colab-df-convert {\n",
              "      background-color: #3B4455;\n",
              "      fill: #D2E3FC;\n",
              "    }\n",
              "\n",
              "    [theme=dark] .colab-df-convert:hover {\n",
              "      background-color: #434B5C;\n",
              "      box-shadow: 0px 1px 3px 1px rgba(0, 0, 0, 0.15);\n",
              "      filter: drop-shadow(0px 1px 2px rgba(0, 0, 0, 0.3));\n",
              "      fill: #FFFFFF;\n",
              "    }\n",
              "  </style>\n",
              "\n",
              "      <script>\n",
              "        const buttonEl =\n",
              "          document.querySelector('#df-67ec2d14-cef2-4f56-afc7-87852ebf4056 button.colab-df-convert');\n",
              "        buttonEl.style.display =\n",
              "          google.colab.kernel.accessAllowed ? 'block' : 'none';\n",
              "\n",
              "        async function convertToInteractive(key) {\n",
              "          const element = document.querySelector('#df-67ec2d14-cef2-4f56-afc7-87852ebf4056');\n",
              "          const dataTable =\n",
              "            await google.colab.kernel.invokeFunction('convertToInteractive',\n",
              "                                                     [key], {});\n",
              "          if (!dataTable) return;\n",
              "\n",
              "          const docLinkHtml = 'Like what you see? Visit the ' +\n",
              "            '<a target=\"_blank\" href=https://colab.research.google.com/notebooks/data_table.ipynb>data table notebook</a>'\n",
              "            + ' to learn more about interactive tables.';\n",
              "          element.innerHTML = '';\n",
              "          dataTable['output_type'] = 'display_data';\n",
              "          await google.colab.output.renderOutput(dataTable, element);\n",
              "          const docLink = document.createElement('div');\n",
              "          docLink.innerHTML = docLinkHtml;\n",
              "          element.appendChild(docLink);\n",
              "        }\n",
              "      </script>\n",
              "    </div>\n",
              "  </div>\n",
              "  "
            ]
          },
          "metadata": {},
          "execution_count": 53
        }
      ]
    },
    {
      "cell_type": "code",
      "source": [
        "GT_daily = pd.merge(GT_daily, GT_daily2, how='outer', on='date')\n",
        "GT_daily = pd.merge(GT_daily, GT_daily3, how='outer', on='date')\n",
        "GT_daily = pd.merge(GT_daily, GT_daily4, how='outer', on='date')\n",
        "GT_daily = pd.merge(GT_daily, GT_daily5, how='outer', on='date')"
      ],
      "metadata": {
        "colab": {
          "base_uri": "https://localhost:8080/"
        },
        "id": "_ezeE-OlHeJ2",
        "outputId": "8c06cf9f-c4df-4c04-fe96-3d5d56ee9828"
      },
      "execution_count": null,
      "outputs": [
        {
          "output_type": "stream",
          "name": "stderr",
          "text": [
            "/usr/local/lib/python3.7/dist-packages/ipykernel_launcher.py:3: FutureWarning: Passing 'suffixes' which cause duplicate columns {'Unnamed: 0_x'} in the result is deprecated and will raise a MergeError in a future version.\n",
            "  This is separate from the ipykernel package so we can avoid doing imports until\n"
          ]
        }
      ]
    },
    {
      "cell_type": "code",
      "source": [
        "GT_daily = GT_daily.set_index('date')"
      ],
      "metadata": {
        "id": "Gs1AEVrLHhZ0"
      },
      "execution_count": null,
      "outputs": []
    },
    {
      "cell_type": "code",
      "source": [
        "GT_daily = GT_daily.drop(GT_daily.columns[[0]], axis=1) "
      ],
      "metadata": {
        "id": "3kiFUQqcGqUS"
      },
      "execution_count": null,
      "outputs": []
    },
    {
      "cell_type": "code",
      "source": [
        "GT_daily.to_csv('GT_Daily_full.csv')"
      ],
      "metadata": {
        "id": "1iee-ceNGqZ7"
      },
      "execution_count": null,
      "outputs": []
    },
    {
      "cell_type": "code",
      "source": [
        "GT_daily"
      ],
      "metadata": {
        "colab": {
          "base_uri": "https://localhost:8080/",
          "height": 707
        },
        "id": "_G9ffemHePsv",
        "outputId": "6e54add2-5e2b-4145-b52d-ec1912b1005f"
      },
      "execution_count": null,
      "outputs": [
        {
          "output_type": "execute_result",
          "data": {
            "text/plain": [
              "            bch btc  bch price  bch bitcoin  bch usd  wbnb coin  wbnb to bnb  \\\n",
              "date                                                                           \n",
              "2015-01-01        0         57            0        0        NaN          NaN   \n",
              "2015-01-02        0          0            0        0        NaN          NaN   \n",
              "2015-01-03        0          0            0        0        NaN          NaN   \n",
              "2015-01-04        0         51            0        0        NaN          NaN   \n",
              "2015-01-05        0          0            0        0        NaN          NaN   \n",
              "...             ...        ...          ...      ...        ...          ...   \n",
              "2021-12-27       25         13           25       13       31.0         15.0   \n",
              "2021-12-28       44         25           31       37       15.0         30.0   \n",
              "2021-12-29       50          6           13       57        0.0         15.0   \n",
              "2021-12-30       20         46           20       26       16.0         32.0   \n",
              "2021-12-31       62         35           35       14       67.0         17.0   \n",
              "\n",
              "            wbnb price  wbnb crypto  eth btc  eth to usd  ...  dar coin  \\\n",
              "date                                                      ...             \n",
              "2015-01-01         NaN          NaN        0           0  ...        57   \n",
              "2015-01-02         NaN          NaN        0           0  ...         0   \n",
              "2015-01-03         NaN          NaN        0           0  ...         0   \n",
              "2015-01-04         NaN          NaN        0           0  ...        51   \n",
              "2015-01-05         NaN          NaN        0           0  ...         0   \n",
              "...                ...          ...      ...         ...  ...       ...   \n",
              "2021-12-27        15.0         15.0       22          63  ...         3   \n",
              "2021-12-28         0.0         15.0       24          60  ...         2   \n",
              "2021-12-29         0.0          0.0       19          70  ...         1   \n",
              "2021-12-30         0.0         16.0       17          61  ...         0   \n",
              "2021-12-31        17.0         17.0       15          57  ...         1   \n",
              "\n",
              "            dalarnia crypto  REP crypto  rep coin  augur rep  augur crypto  \\\n",
              "date                                                                         \n",
              "2015-01-01                0           0         0          0             0   \n",
              "2015-01-02                0           0        29          0             0   \n",
              "2015-01-03                0           0         0          0             0   \n",
              "2015-01-04                0           0         0          0             0   \n",
              "2015-01-05                0           0         0          0             0   \n",
              "...                     ...         ...       ...        ...           ...   \n",
              "2021-12-27                0           0        35          0            35   \n",
              "2021-12-28                0           0         0          0            34   \n",
              "2021-12-29                0           0         0          0            35   \n",
              "2021-12-30                0           0         0          0             0   \n",
              "2021-12-31                0          39         0          0             0   \n",
              "\n",
              "             ICP crypto  icp crypto price  icp price  icp crypto prediction  \n",
              "date                                                                         \n",
              "2015-01-01            0                 0          0                      0  \n",
              "2015-01-02            0                 0          0                      0  \n",
              "2015-01-03            0                 0          0                      0  \n",
              "2015-01-04            0                 0          0                      0  \n",
              "2015-01-05            0                 0         25                      0  \n",
              "...                 ...               ...        ...                    ...  \n",
              "2021-12-27           42                 8         42                      4  \n",
              "2021-12-28           30                 4         23                      4  \n",
              "2021-12-29           31                 8         31                      4  \n",
              "2021-12-30           20                 0         44                      0  \n",
              "2021-12-31           33                 0         21                      0  \n",
              "\n",
              "[2557 rows x 334 columns]"
            ],
            "text/html": [
              "\n",
              "  <div id=\"df-7811dd30-617a-4ae9-8346-73594ede2bae\">\n",
              "    <div class=\"colab-df-container\">\n",
              "      <div>\n",
              "<style scoped>\n",
              "    .dataframe tbody tr th:only-of-type {\n",
              "        vertical-align: middle;\n",
              "    }\n",
              "\n",
              "    .dataframe tbody tr th {\n",
              "        vertical-align: top;\n",
              "    }\n",
              "\n",
              "    .dataframe thead th {\n",
              "        text-align: right;\n",
              "    }\n",
              "</style>\n",
              "<table border=\"1\" class=\"dataframe\">\n",
              "  <thead>\n",
              "    <tr style=\"text-align: right;\">\n",
              "      <th></th>\n",
              "      <th>bch btc</th>\n",
              "      <th>bch price</th>\n",
              "      <th>bch bitcoin</th>\n",
              "      <th>bch usd</th>\n",
              "      <th>wbnb coin</th>\n",
              "      <th>wbnb to bnb</th>\n",
              "      <th>wbnb price</th>\n",
              "      <th>wbnb crypto</th>\n",
              "      <th>eth btc</th>\n",
              "      <th>eth to usd</th>\n",
              "      <th>...</th>\n",
              "      <th>dar coin</th>\n",
              "      <th>dalarnia crypto</th>\n",
              "      <th>REP crypto</th>\n",
              "      <th>rep coin</th>\n",
              "      <th>augur rep</th>\n",
              "      <th>augur crypto</th>\n",
              "      <th>ICP crypto</th>\n",
              "      <th>icp crypto price</th>\n",
              "      <th>icp price</th>\n",
              "      <th>icp crypto prediction</th>\n",
              "    </tr>\n",
              "    <tr>\n",
              "      <th>date</th>\n",
              "      <th></th>\n",
              "      <th></th>\n",
              "      <th></th>\n",
              "      <th></th>\n",
              "      <th></th>\n",
              "      <th></th>\n",
              "      <th></th>\n",
              "      <th></th>\n",
              "      <th></th>\n",
              "      <th></th>\n",
              "      <th></th>\n",
              "      <th></th>\n",
              "      <th></th>\n",
              "      <th></th>\n",
              "      <th></th>\n",
              "      <th></th>\n",
              "      <th></th>\n",
              "      <th></th>\n",
              "      <th></th>\n",
              "      <th></th>\n",
              "      <th></th>\n",
              "    </tr>\n",
              "  </thead>\n",
              "  <tbody>\n",
              "    <tr>\n",
              "      <th>2015-01-01</th>\n",
              "      <td>0</td>\n",
              "      <td>57</td>\n",
              "      <td>0</td>\n",
              "      <td>0</td>\n",
              "      <td>NaN</td>\n",
              "      <td>NaN</td>\n",
              "      <td>NaN</td>\n",
              "      <td>NaN</td>\n",
              "      <td>0</td>\n",
              "      <td>0</td>\n",
              "      <td>...</td>\n",
              "      <td>57</td>\n",
              "      <td>0</td>\n",
              "      <td>0</td>\n",
              "      <td>0</td>\n",
              "      <td>0</td>\n",
              "      <td>0</td>\n",
              "      <td>0</td>\n",
              "      <td>0</td>\n",
              "      <td>0</td>\n",
              "      <td>0</td>\n",
              "    </tr>\n",
              "    <tr>\n",
              "      <th>2015-01-02</th>\n",
              "      <td>0</td>\n",
              "      <td>0</td>\n",
              "      <td>0</td>\n",
              "      <td>0</td>\n",
              "      <td>NaN</td>\n",
              "      <td>NaN</td>\n",
              "      <td>NaN</td>\n",
              "      <td>NaN</td>\n",
              "      <td>0</td>\n",
              "      <td>0</td>\n",
              "      <td>...</td>\n",
              "      <td>0</td>\n",
              "      <td>0</td>\n",
              "      <td>0</td>\n",
              "      <td>29</td>\n",
              "      <td>0</td>\n",
              "      <td>0</td>\n",
              "      <td>0</td>\n",
              "      <td>0</td>\n",
              "      <td>0</td>\n",
              "      <td>0</td>\n",
              "    </tr>\n",
              "    <tr>\n",
              "      <th>2015-01-03</th>\n",
              "      <td>0</td>\n",
              "      <td>0</td>\n",
              "      <td>0</td>\n",
              "      <td>0</td>\n",
              "      <td>NaN</td>\n",
              "      <td>NaN</td>\n",
              "      <td>NaN</td>\n",
              "      <td>NaN</td>\n",
              "      <td>0</td>\n",
              "      <td>0</td>\n",
              "      <td>...</td>\n",
              "      <td>0</td>\n",
              "      <td>0</td>\n",
              "      <td>0</td>\n",
              "      <td>0</td>\n",
              "      <td>0</td>\n",
              "      <td>0</td>\n",
              "      <td>0</td>\n",
              "      <td>0</td>\n",
              "      <td>0</td>\n",
              "      <td>0</td>\n",
              "    </tr>\n",
              "    <tr>\n",
              "      <th>2015-01-04</th>\n",
              "      <td>0</td>\n",
              "      <td>51</td>\n",
              "      <td>0</td>\n",
              "      <td>0</td>\n",
              "      <td>NaN</td>\n",
              "      <td>NaN</td>\n",
              "      <td>NaN</td>\n",
              "      <td>NaN</td>\n",
              "      <td>0</td>\n",
              "      <td>0</td>\n",
              "      <td>...</td>\n",
              "      <td>51</td>\n",
              "      <td>0</td>\n",
              "      <td>0</td>\n",
              "      <td>0</td>\n",
              "      <td>0</td>\n",
              "      <td>0</td>\n",
              "      <td>0</td>\n",
              "      <td>0</td>\n",
              "      <td>0</td>\n",
              "      <td>0</td>\n",
              "    </tr>\n",
              "    <tr>\n",
              "      <th>2015-01-05</th>\n",
              "      <td>0</td>\n",
              "      <td>0</td>\n",
              "      <td>0</td>\n",
              "      <td>0</td>\n",
              "      <td>NaN</td>\n",
              "      <td>NaN</td>\n",
              "      <td>NaN</td>\n",
              "      <td>NaN</td>\n",
              "      <td>0</td>\n",
              "      <td>0</td>\n",
              "      <td>...</td>\n",
              "      <td>0</td>\n",
              "      <td>0</td>\n",
              "      <td>0</td>\n",
              "      <td>0</td>\n",
              "      <td>0</td>\n",
              "      <td>0</td>\n",
              "      <td>0</td>\n",
              "      <td>0</td>\n",
              "      <td>25</td>\n",
              "      <td>0</td>\n",
              "    </tr>\n",
              "    <tr>\n",
              "      <th>...</th>\n",
              "      <td>...</td>\n",
              "      <td>...</td>\n",
              "      <td>...</td>\n",
              "      <td>...</td>\n",
              "      <td>...</td>\n",
              "      <td>...</td>\n",
              "      <td>...</td>\n",
              "      <td>...</td>\n",
              "      <td>...</td>\n",
              "      <td>...</td>\n",
              "      <td>...</td>\n",
              "      <td>...</td>\n",
              "      <td>...</td>\n",
              "      <td>...</td>\n",
              "      <td>...</td>\n",
              "      <td>...</td>\n",
              "      <td>...</td>\n",
              "      <td>...</td>\n",
              "      <td>...</td>\n",
              "      <td>...</td>\n",
              "      <td>...</td>\n",
              "    </tr>\n",
              "    <tr>\n",
              "      <th>2021-12-27</th>\n",
              "      <td>25</td>\n",
              "      <td>13</td>\n",
              "      <td>25</td>\n",
              "      <td>13</td>\n",
              "      <td>31.0</td>\n",
              "      <td>15.0</td>\n",
              "      <td>15.0</td>\n",
              "      <td>15.0</td>\n",
              "      <td>22</td>\n",
              "      <td>63</td>\n",
              "      <td>...</td>\n",
              "      <td>3</td>\n",
              "      <td>0</td>\n",
              "      <td>0</td>\n",
              "      <td>35</td>\n",
              "      <td>0</td>\n",
              "      <td>35</td>\n",
              "      <td>42</td>\n",
              "      <td>8</td>\n",
              "      <td>42</td>\n",
              "      <td>4</td>\n",
              "    </tr>\n",
              "    <tr>\n",
              "      <th>2021-12-28</th>\n",
              "      <td>44</td>\n",
              "      <td>25</td>\n",
              "      <td>31</td>\n",
              "      <td>37</td>\n",
              "      <td>15.0</td>\n",
              "      <td>30.0</td>\n",
              "      <td>0.0</td>\n",
              "      <td>15.0</td>\n",
              "      <td>24</td>\n",
              "      <td>60</td>\n",
              "      <td>...</td>\n",
              "      <td>2</td>\n",
              "      <td>0</td>\n",
              "      <td>0</td>\n",
              "      <td>0</td>\n",
              "      <td>0</td>\n",
              "      <td>34</td>\n",
              "      <td>30</td>\n",
              "      <td>4</td>\n",
              "      <td>23</td>\n",
              "      <td>4</td>\n",
              "    </tr>\n",
              "    <tr>\n",
              "      <th>2021-12-29</th>\n",
              "      <td>50</td>\n",
              "      <td>6</td>\n",
              "      <td>13</td>\n",
              "      <td>57</td>\n",
              "      <td>0.0</td>\n",
              "      <td>15.0</td>\n",
              "      <td>0.0</td>\n",
              "      <td>0.0</td>\n",
              "      <td>19</td>\n",
              "      <td>70</td>\n",
              "      <td>...</td>\n",
              "      <td>1</td>\n",
              "      <td>0</td>\n",
              "      <td>0</td>\n",
              "      <td>0</td>\n",
              "      <td>0</td>\n",
              "      <td>35</td>\n",
              "      <td>31</td>\n",
              "      <td>8</td>\n",
              "      <td>31</td>\n",
              "      <td>4</td>\n",
              "    </tr>\n",
              "    <tr>\n",
              "      <th>2021-12-30</th>\n",
              "      <td>20</td>\n",
              "      <td>46</td>\n",
              "      <td>20</td>\n",
              "      <td>26</td>\n",
              "      <td>16.0</td>\n",
              "      <td>32.0</td>\n",
              "      <td>0.0</td>\n",
              "      <td>16.0</td>\n",
              "      <td>17</td>\n",
              "      <td>61</td>\n",
              "      <td>...</td>\n",
              "      <td>0</td>\n",
              "      <td>0</td>\n",
              "      <td>0</td>\n",
              "      <td>0</td>\n",
              "      <td>0</td>\n",
              "      <td>0</td>\n",
              "      <td>20</td>\n",
              "      <td>0</td>\n",
              "      <td>44</td>\n",
              "      <td>0</td>\n",
              "    </tr>\n",
              "    <tr>\n",
              "      <th>2021-12-31</th>\n",
              "      <td>62</td>\n",
              "      <td>35</td>\n",
              "      <td>35</td>\n",
              "      <td>14</td>\n",
              "      <td>67.0</td>\n",
              "      <td>17.0</td>\n",
              "      <td>17.0</td>\n",
              "      <td>17.0</td>\n",
              "      <td>15</td>\n",
              "      <td>57</td>\n",
              "      <td>...</td>\n",
              "      <td>1</td>\n",
              "      <td>0</td>\n",
              "      <td>39</td>\n",
              "      <td>0</td>\n",
              "      <td>0</td>\n",
              "      <td>0</td>\n",
              "      <td>33</td>\n",
              "      <td>0</td>\n",
              "      <td>21</td>\n",
              "      <td>0</td>\n",
              "    </tr>\n",
              "  </tbody>\n",
              "</table>\n",
              "<p>2557 rows × 334 columns</p>\n",
              "</div>\n",
              "      <button class=\"colab-df-convert\" onclick=\"convertToInteractive('df-7811dd30-617a-4ae9-8346-73594ede2bae')\"\n",
              "              title=\"Convert this dataframe to an interactive table.\"\n",
              "              style=\"display:none;\">\n",
              "        \n",
              "  <svg xmlns=\"http://www.w3.org/2000/svg\" height=\"24px\"viewBox=\"0 0 24 24\"\n",
              "       width=\"24px\">\n",
              "    <path d=\"M0 0h24v24H0V0z\" fill=\"none\"/>\n",
              "    <path d=\"M18.56 5.44l.94 2.06.94-2.06 2.06-.94-2.06-.94-.94-2.06-.94 2.06-2.06.94zm-11 1L8.5 8.5l.94-2.06 2.06-.94-2.06-.94L8.5 2.5l-.94 2.06-2.06.94zm10 10l.94 2.06.94-2.06 2.06-.94-2.06-.94-.94-2.06-.94 2.06-2.06.94z\"/><path d=\"M17.41 7.96l-1.37-1.37c-.4-.4-.92-.59-1.43-.59-.52 0-1.04.2-1.43.59L10.3 9.45l-7.72 7.72c-.78.78-.78 2.05 0 2.83L4 21.41c.39.39.9.59 1.41.59.51 0 1.02-.2 1.41-.59l7.78-7.78 2.81-2.81c.8-.78.8-2.07 0-2.86zM5.41 20L4 18.59l7.72-7.72 1.47 1.35L5.41 20z\"/>\n",
              "  </svg>\n",
              "      </button>\n",
              "      \n",
              "  <style>\n",
              "    .colab-df-container {\n",
              "      display:flex;\n",
              "      flex-wrap:wrap;\n",
              "      gap: 12px;\n",
              "    }\n",
              "\n",
              "    .colab-df-convert {\n",
              "      background-color: #E8F0FE;\n",
              "      border: none;\n",
              "      border-radius: 50%;\n",
              "      cursor: pointer;\n",
              "      display: none;\n",
              "      fill: #1967D2;\n",
              "      height: 32px;\n",
              "      padding: 0 0 0 0;\n",
              "      width: 32px;\n",
              "    }\n",
              "\n",
              "    .colab-df-convert:hover {\n",
              "      background-color: #E2EBFA;\n",
              "      box-shadow: 0px 1px 2px rgba(60, 64, 67, 0.3), 0px 1px 3px 1px rgba(60, 64, 67, 0.15);\n",
              "      fill: #174EA6;\n",
              "    }\n",
              "\n",
              "    [theme=dark] .colab-df-convert {\n",
              "      background-color: #3B4455;\n",
              "      fill: #D2E3FC;\n",
              "    }\n",
              "\n",
              "    [theme=dark] .colab-df-convert:hover {\n",
              "      background-color: #434B5C;\n",
              "      box-shadow: 0px 1px 3px 1px rgba(0, 0, 0, 0.15);\n",
              "      filter: drop-shadow(0px 1px 2px rgba(0, 0, 0, 0.3));\n",
              "      fill: #FFFFFF;\n",
              "    }\n",
              "  </style>\n",
              "\n",
              "      <script>\n",
              "        const buttonEl =\n",
              "          document.querySelector('#df-7811dd30-617a-4ae9-8346-73594ede2bae button.colab-df-convert');\n",
              "        buttonEl.style.display =\n",
              "          google.colab.kernel.accessAllowed ? 'block' : 'none';\n",
              "\n",
              "        async function convertToInteractive(key) {\n",
              "          const element = document.querySelector('#df-7811dd30-617a-4ae9-8346-73594ede2bae');\n",
              "          const dataTable =\n",
              "            await google.colab.kernel.invokeFunction('convertToInteractive',\n",
              "                                                     [key], {});\n",
              "          if (!dataTable) return;\n",
              "\n",
              "          const docLinkHtml = 'Like what you see? Visit the ' +\n",
              "            '<a target=\"_blank\" href=https://colab.research.google.com/notebooks/data_table.ipynb>data table notebook</a>'\n",
              "            + ' to learn more about interactive tables.';\n",
              "          element.innerHTML = '';\n",
              "          dataTable['output_type'] = 'display_data';\n",
              "          await google.colab.output.renderOutput(dataTable, element);\n",
              "          const docLink = document.createElement('div');\n",
              "          docLink.innerHTML = docLinkHtml;\n",
              "          element.appendChild(docLink);\n",
              "        }\n",
              "      </script>\n",
              "    </div>\n",
              "  </div>\n",
              "  "
            ]
          },
          "metadata": {},
          "execution_count": 52
        }
      ]
    },
    {
      "cell_type": "markdown",
      "source": [
        "Weekly SVI"
      ],
      "metadata": {
        "id": "i_pLO6svGhgV"
      }
    },
    {
      "cell_type": "code",
      "source": [
        "start = datetime.datetime.strptime(\"2015-01-01\", \"%Y-%m-%d\")\n",
        "end = datetime.datetime.strptime(\"2021-12-31\", \"%Y-%m-%d\")\n",
        "date_generated = pd.date_range(start, end, freq='W')"
      ],
      "metadata": {
        "id": "ZK-Nf1dn8q3F"
      },
      "execution_count": null,
      "outputs": []
    },
    {
      "cell_type": "code",
      "source": [
        "coins = list(coins_name.columns)"
      ],
      "metadata": {
        "id": "przcLcqc79tq"
      },
      "execution_count": null,
      "outputs": []
    },
    {
      "cell_type": "code",
      "source": [
        "idx = coins.index('GALA')\n",
        "idx"
      ],
      "metadata": {
        "colab": {
          "base_uri": "https://localhost:8080/"
        },
        "id": "sTx0Y2rOQh_S",
        "outputId": "892121ff-31f5-4240-e497-3b49645656bc"
      },
      "execution_count": null,
      "outputs": [
        {
          "output_type": "execute_result",
          "data": {
            "text/plain": [
              "29"
            ]
          },
          "metadata": {},
          "execution_count": 20
        }
      ]
    },
    {
      "cell_type": "code",
      "source": [
        "len(coins)"
      ],
      "metadata": {
        "colab": {
          "base_uri": "https://localhost:8080/"
        },
        "id": "j1zQ_IwMRA5O",
        "outputId": "1584cfc3-d356-4cb6-a805-d718b09c6cc1"
      },
      "execution_count": null,
      "outputs": [
        {
          "output_type": "execute_result",
          "data": {
            "text/plain": [
              "82"
            ]
          },
          "metadata": {},
          "execution_count": 39
        }
      ]
    },
    {
      "cell_type": "markdown",
      "source": [
        "### Weekly SVI"
      ],
      "metadata": {
        "id": "sozsM6v3RCKj"
      }
    },
    {
      "cell_type": "code",
      "source": [
        "# weekly SVI\n",
        "# data_weekly_df = pd.DataFrame(date_generated, columns=['date'])\n",
        "pytrend = TrendReq()\n",
        "\n",
        "# coins name (columns)\n",
        "coins = coins[60:]\n",
        "\n",
        "year_lst = [2015, 2016, 2017, 2018, 2019, 2020, 2021]\n",
        "# month_day = [('01', '01'), ('07', '01'), ('07', '02'), ('12', '31')]\n",
        "\n",
        "for coin in tqdm(coins):\n",
        "    kw_lst = list(coins_name[coin])\n",
        "    coin_df = pd.DataFrame()\n",
        "    for year in year_lst:\n",
        "        # print(f'{year}-{month}-{day}')\n",
        "        pytrend.build_payload(kw_lst, cat=0, \n",
        "                              timeframe=f'{year}-01-01 {year}-12-31')\n",
        "        tmp_df = pytrend.interest_over_time()\n",
        "        tmp_df = tmp_df.reset_index()\n",
        "            \n",
        "        coin_df = coin_df.append(tmp_df, ignore_index=True)\n",
        "        time.sleep(4)\n",
        "    coin_df = coin_df.drop(['isPartial'], axis=1)\n",
        "    # data_daily_df = pd.concat(data_daily_df, coin_df, axis=0)\n",
        "    # data_daily_df = data_daily_df.join(coin_df)\n",
        "    data_weekly_df = pd.merge(data_weekly_df, coin_df, how='outer', on='date')"
      ],
      "metadata": {
        "id": "wt_o_8Qt79kc",
        "colab": {
          "base_uri": "https://localhost:8080/"
        },
        "outputId": "9c4a5947-4a8d-4a0b-e128-5994021c7080"
      },
      "execution_count": null,
      "outputs": [
        {
          "output_type": "stream",
          "name": "stderr",
          "text": [
            "100%|██████████| 22/22 [10:45<00:00, 29.35s/it]\n"
          ]
        }
      ]
    },
    {
      "cell_type": "code",
      "source": [
        "data_weekly_df.to_csv('GT_weekly4.csv')"
      ],
      "metadata": {
        "id": "9WqTddPrQVzJ"
      },
      "execution_count": null,
      "outputs": []
    },
    {
      "cell_type": "code",
      "source": [
        "len(data_weekly_df.columns)"
      ],
      "metadata": {
        "id": "KpzG8VEf79Ys",
        "colab": {
          "base_uri": "https://localhost:8080/"
        },
        "outputId": "cc29515e-291d-4bf2-a528-1fed8a96010e"
      },
      "execution_count": null,
      "outputs": [
        {
          "output_type": "execute_result",
          "data": {
            "text/plain": [
              "333"
            ]
          },
          "metadata": {},
          "execution_count": 43
        }
      ]
    },
    {
      "cell_type": "code",
      "source": [
        "GT_Weekly = pd.read_csv('GT_weekly1.csv')\n",
        "GT_Weekly1 = pd.read_csv('GT_weekly7.csv')\n",
        "GT_Weekly = pd.merge(GT_Weekly, GT_Weekly1, how='outer', on='date')"
      ],
      "metadata": {
        "id": "4G6dNQbz78cy"
      },
      "execution_count": null,
      "outputs": []
    },
    {
      "cell_type": "code",
      "source": [
        "GT_Weekly = GT_Weekly.set_index('date')"
      ],
      "metadata": {
        "id": "7l6EAbWsay3R"
      },
      "execution_count": null,
      "outputs": []
    },
    {
      "cell_type": "code",
      "source": [
        "GT_Weekly = GT_Weekly.drop(GT_Weekly.columns[[0]], axis=1) "
      ],
      "metadata": {
        "id": "6_jTJ-mIfkOi"
      },
      "execution_count": null,
      "outputs": []
    },
    {
      "cell_type": "code",
      "source": [
        "GT_weekly = pd.read_csv('GT_Weekly_full.csv', index_col=0)\n",
        "GT_daily = pd.read_csv('GT_Daily_full.csv', index_col=0)"
      ],
      "metadata": {
        "id": "KZpMmuySjq_0"
      },
      "execution_count": null,
      "outputs": []
    },
    {
      "cell_type": "code",
      "source": [
        "shape = GT_weekly.shape"
      ],
      "metadata": {
        "id": "B_36jlbe6IFR"
      },
      "execution_count": null,
      "outputs": []
    },
    {
      "cell_type": "code",
      "source": [
        "shape[0]"
      ],
      "metadata": {
        "colab": {
          "base_uri": "https://localhost:8080/"
        },
        "id": "I7-mYOkj6MNl",
        "outputId": "e05bb762-95d5-4236-8fd6-aa6049560ab6"
      },
      "execution_count": null,
      "outputs": [
        {
          "output_type": "execute_result",
          "data": {
            "text/plain": [
              "2557"
            ]
          },
          "metadata": {},
          "execution_count": 18
        }
      ]
    },
    {
      "cell_type": "code",
      "source": [
        "coins_name = pd.read_csv('related_queries_final.csv')\n",
        "coins = list(coins_name.columns)"
      ],
      "metadata": {
        "id": "E4FPf0gxCJLg"
      },
      "execution_count": null,
      "outputs": []
    },
    {
      "cell_type": "markdown",
      "source": [
        "### Formation of a dataset"
      ],
      "metadata": {
        "id": "l0otxDUzaAHx"
      }
    },
    {
      "cell_type": "markdown",
      "source": [
        "Algorithm:\n",
        "\n",
        "Calculate average SVI\n",
        "\n",
        "Divide the average weekly SVI by the daily SVI\n",
        "\n",
        "Calculate adjoint coefficient\n",
        "\n",
        "Multiply the daily SVI by adjoint coefficient\n",
        "\n",
        "Normalize the found SVI within 0 .. 100"
      ],
      "metadata": {
        "id": "W0hB-5FTc8eV"
      }
    },
    {
      "cell_type": "code",
      "source": [
        "weekly_data = pd.read_csv('GT_weekly_full.csv', index_col=0)\n",
        "daily_data = pd.read_csv('GT_Daily_full.csv', index_col=0)"
      ],
      "metadata": {
        "id": "Ar5dlXUuZ_R1"
      },
      "execution_count": null,
      "outputs": []
    },
    {
      "cell_type": "code",
      "source": [
        "coins_name = pd.read_csv('related_queries_final.csv')\n",
        "coins = list(coins_name.columns)"
      ],
      "metadata": {
        "id": "a2yjiYeWYaTl"
      },
      "execution_count": null,
      "outputs": []
    },
    {
      "cell_type": "code",
      "source": [
        "def avg_SVI(df, coins):\n",
        "    # columns = df.columns\n",
        "    shape = df.shape\n",
        "    num_col = 4\n",
        "    coin_num = 0\n",
        "\n",
        "    avg_df = pd.DataFrame()\n",
        "\n",
        "    for i in range(0, shape[1], 4):\n",
        "        tmp_df = df.iloc[:, i:i+num_col]\n",
        "        # print(tmp_df)\n",
        "\n",
        "        avg_df[coins[coin_num]] = tmp_df.mean(axis=1)\n",
        "        # tmp_df[f'avg_{coins[coin_num]}'] = tmp_df.mean(axis=1)\n",
        "        coin_num += 1\n",
        "    \n",
        "    return avg_df"
      ],
      "metadata": {
        "id": "efjf8R_kazS2"
      },
      "execution_count": null,
      "outputs": []
    },
    {
      "cell_type": "code",
      "source": [
        "avg_daily_df = avg_SVI(daily_data, coins)\n",
        "avg_weekly_df = avg_SVI(weekly_data, coins)"
      ],
      "metadata": {
        "id": "vsxbrIvza4bm"
      },
      "execution_count": null,
      "outputs": []
    },
    {
      "cell_type": "code",
      "source": [
        "def adj_SVI(avg_daily, avg_weekly):\n",
        "    res_df = pd.DataFrame()\n",
        "    columns = avg_daily.columns\n",
        "\n",
        "    for coin in columns:\n",
        "        tmp_df = pd.DataFrame(avg_daily[coin], index=avg_daily.index)\n",
        "        tmp_df2 = pd.DataFrame(avg_weekly[coin], index=avg_weekly.index)\n",
        "        # tmp_df = pd.concat([tmp_df, tmp_df2], axis=1)\n",
        "\n",
        "        tmp_df = tmp_df.join(\n",
        "            tmp_df2, \n",
        "            on=['date'], \n",
        "            how=\"outer\", \n",
        "            lsuffix=\"_d\", \n",
        "            rsuffix=\"_w\"\n",
        "        )\n",
        "        \n",
        "        # afjustment factor \n",
        "        tmp_df[f'{coin}_adj_factor'] = tmp_df[f'{coin}_w'] / tmp_df[f'{coin}_d']\n",
        "        # inf->1\n",
        "        tmp_df.replace([np.inf, -np.inf], 1, inplace=True)\n",
        "\n",
        "        tmp_df[f'{coin}_adj_factor'][0:3] = 1\n",
        "\n",
        "        for i in range(3, len(tmp_df), 7):\n",
        "            coef = tmp_df[f'{coin}_adj_factor'][i]\n",
        "            for j in range(1, 7):\n",
        "                if i+j == len(tmp_df):\n",
        "                    break;\n",
        "                tmp_df[f'{coin}_adj_factor'][i+j] = coef\n",
        "\n",
        "        # adjustment svi\n",
        "        tmp_df[f'{coin}_adj_svi'] = tmp_df[f'{coin}_d'] * tmp_df[f'{coin}_adj_factor']\n",
        "        \n",
        "        res_df = pd.concat([res_df, tmp_df[f'{coin}_adj_svi']], axis=1)\n",
        "    return res_df"
      ],
      "metadata": {
        "id": "MiWtYOxmbp-_"
      },
      "execution_count": null,
      "outputs": []
    },
    {
      "cell_type": "code",
      "source": [
        "GT_adj = adj_SVI(avg_daily_df, avg_weekly_df)"
      ],
      "metadata": {
        "id": "gHGUfPuqcbzL"
      },
      "execution_count": null,
      "outputs": []
    },
    {
      "cell_type": "code",
      "source": [
        "# NaNs->0\n",
        "GT_adj = GT_adj.fillna(0)\n",
        "\n",
        "# normalization\n",
        "GT_adj = GT_adj.apply(lambda iterator: ((iterator - iterator.min())/(iterator.max() - iterator.min()) * 100))"
      ],
      "metadata": {
        "id": "Pw54y9_-cjbI"
      },
      "execution_count": null,
      "outputs": []
    },
    {
      "cell_type": "code",
      "source": [
        "GT_adj.to_csv('GT_adj.csv')"
      ],
      "metadata": {
        "id": "Kj1LNWwqrWem"
      },
      "execution_count": 25,
      "outputs": []
    },
    {
      "cell_type": "code",
      "source": [
        "GT_adj.describe()"
      ],
      "metadata": {
        "colab": {
          "base_uri": "https://localhost:8080/",
          "height": 394
        },
        "id": "ZiIaj2Q3rRsq",
        "outputId": "8db25318-e4ee-4c23-91ff-48935ea4a6a0"
      },
      "execution_count": null,
      "outputs": [
        {
          "output_type": "execute_result",
          "data": {
            "text/plain": [
              "       BCH_adj_svi  WBNB_adj_svi  ETH_adj_svi  XLM_adj_svi  C98_adj_svi  \\\n",
              "count  2557.000000   2557.000000  2557.000000  2557.000000  2557.000000   \n",
              "mean      1.931409      0.795831     8.063820    12.513504     0.097353   \n",
              "std       3.838120      4.874296     7.627846     7.214152     2.175460   \n",
              "min       0.000000      0.000000     0.000000     0.000000     0.000000   \n",
              "25%       0.000000      0.000000     3.399403     7.223440     0.000000   \n",
              "50%       1.260294      0.000000     6.371126    12.972973     0.000000   \n",
              "75%       2.516281      0.000000    10.669620    16.663385     0.000000   \n",
              "max     100.000000    100.000000   100.000000   100.000000   100.000000   \n",
              "\n",
              "       JASMY_adj_svi  AVAX_adj_svi  SHIB_adj_svi  KRW_adj_svi  XRP_adj_svi  \\\n",
              "count    2557.000000   2557.000000   2557.000000  2557.000000  2557.000000   \n",
              "mean        0.311276      0.540232      1.550826    22.908966    10.415628   \n",
              "std         2.858679      2.831780      5.508846    12.127934     8.591168   \n",
              "min         0.000000      0.000000      0.000000     0.000000     0.000000   \n",
              "25%         0.000000      0.000000      0.000000    13.706818     3.923866   \n",
              "50%         0.000000      0.000000      0.000000    21.190144    10.053350   \n",
              "75%         0.000000      0.000000      0.000000    30.118989    15.426448   \n",
              "max       100.000000    100.000000    100.000000   100.000000   100.000000   \n",
              "\n",
              "       ...  MKR_adj_svi  TRY_adj_svi  DASH_adj_svi  SAND_adj_svi  XMR_adj_svi  \\\n",
              "count  ...  2557.000000  2557.000000   2557.000000   2557.000000  2557.000000   \n",
              "mean   ...     1.947869     5.790529      7.620946      7.694568    14.267508   \n",
              "std    ...     5.559354     5.161200      5.946417      4.778810    11.532450   \n",
              "min    ...     0.000000     0.000000      0.000000      0.000000     0.000000   \n",
              "25%    ...     0.000000     2.663480      3.575895      5.381443     5.391687   \n",
              "50%    ...     0.000000     4.745046      6.356191      7.307524    12.730917   \n",
              "75%    ...     2.045827     7.370880      9.730784      9.462371    18.891637   \n",
              "max    ...   100.000000   100.000000    100.000000    100.000000   100.000000   \n",
              "\n",
              "       AAVE_adj_svi  JST_adj_svi  DAR_adj_svi  REP_adj_svi  ICP_adj_svi  \n",
              "count   2557.000000  2557.000000  2557.000000  2557.000000  2557.000000  \n",
              "mean       2.498043     8.956986     0.814100     3.128653     0.728235  \n",
              "std        6.812480     7.646006     2.716335     6.468148     3.090077  \n",
              "min        0.000000     0.000000     0.000000     0.000000     0.000000  \n",
              "25%        0.000000     4.660590     0.000000     0.000000     0.000000  \n",
              "50%        0.000000     7.218750     0.000000     1.518961     0.000000  \n",
              "75%        2.955911    10.638158     0.000000     3.456945     0.988543  \n",
              "max      100.000000   100.000000   100.000000   100.000000   100.000000  \n",
              "\n",
              "[8 rows x 82 columns]"
            ],
            "text/html": [
              "\n",
              "  <div id=\"df-4e99c630-2fce-4f9e-95b1-6bb8761d7d9d\">\n",
              "    <div class=\"colab-df-container\">\n",
              "      <div>\n",
              "<style scoped>\n",
              "    .dataframe tbody tr th:only-of-type {\n",
              "        vertical-align: middle;\n",
              "    }\n",
              "\n",
              "    .dataframe tbody tr th {\n",
              "        vertical-align: top;\n",
              "    }\n",
              "\n",
              "    .dataframe thead th {\n",
              "        text-align: right;\n",
              "    }\n",
              "</style>\n",
              "<table border=\"1\" class=\"dataframe\">\n",
              "  <thead>\n",
              "    <tr style=\"text-align: right;\">\n",
              "      <th></th>\n",
              "      <th>BCH_adj_svi</th>\n",
              "      <th>WBNB_adj_svi</th>\n",
              "      <th>ETH_adj_svi</th>\n",
              "      <th>XLM_adj_svi</th>\n",
              "      <th>C98_adj_svi</th>\n",
              "      <th>JASMY_adj_svi</th>\n",
              "      <th>AVAX_adj_svi</th>\n",
              "      <th>SHIB_adj_svi</th>\n",
              "      <th>KRW_adj_svi</th>\n",
              "      <th>XRP_adj_svi</th>\n",
              "      <th>...</th>\n",
              "      <th>MKR_adj_svi</th>\n",
              "      <th>TRY_adj_svi</th>\n",
              "      <th>DASH_adj_svi</th>\n",
              "      <th>SAND_adj_svi</th>\n",
              "      <th>XMR_adj_svi</th>\n",
              "      <th>AAVE_adj_svi</th>\n",
              "      <th>JST_adj_svi</th>\n",
              "      <th>DAR_adj_svi</th>\n",
              "      <th>REP_adj_svi</th>\n",
              "      <th>ICP_adj_svi</th>\n",
              "    </tr>\n",
              "  </thead>\n",
              "  <tbody>\n",
              "    <tr>\n",
              "      <th>count</th>\n",
              "      <td>2557.000000</td>\n",
              "      <td>2557.000000</td>\n",
              "      <td>2557.000000</td>\n",
              "      <td>2557.000000</td>\n",
              "      <td>2557.000000</td>\n",
              "      <td>2557.000000</td>\n",
              "      <td>2557.000000</td>\n",
              "      <td>2557.000000</td>\n",
              "      <td>2557.000000</td>\n",
              "      <td>2557.000000</td>\n",
              "      <td>...</td>\n",
              "      <td>2557.000000</td>\n",
              "      <td>2557.000000</td>\n",
              "      <td>2557.000000</td>\n",
              "      <td>2557.000000</td>\n",
              "      <td>2557.000000</td>\n",
              "      <td>2557.000000</td>\n",
              "      <td>2557.000000</td>\n",
              "      <td>2557.000000</td>\n",
              "      <td>2557.000000</td>\n",
              "      <td>2557.000000</td>\n",
              "    </tr>\n",
              "    <tr>\n",
              "      <th>mean</th>\n",
              "      <td>1.931409</td>\n",
              "      <td>0.795831</td>\n",
              "      <td>8.063820</td>\n",
              "      <td>12.513504</td>\n",
              "      <td>0.097353</td>\n",
              "      <td>0.311276</td>\n",
              "      <td>0.540232</td>\n",
              "      <td>1.550826</td>\n",
              "      <td>22.908966</td>\n",
              "      <td>10.415628</td>\n",
              "      <td>...</td>\n",
              "      <td>1.947869</td>\n",
              "      <td>5.790529</td>\n",
              "      <td>7.620946</td>\n",
              "      <td>7.694568</td>\n",
              "      <td>14.267508</td>\n",
              "      <td>2.498043</td>\n",
              "      <td>8.956986</td>\n",
              "      <td>0.814100</td>\n",
              "      <td>3.128653</td>\n",
              "      <td>0.728235</td>\n",
              "    </tr>\n",
              "    <tr>\n",
              "      <th>std</th>\n",
              "      <td>3.838120</td>\n",
              "      <td>4.874296</td>\n",
              "      <td>7.627846</td>\n",
              "      <td>7.214152</td>\n",
              "      <td>2.175460</td>\n",
              "      <td>2.858679</td>\n",
              "      <td>2.831780</td>\n",
              "      <td>5.508846</td>\n",
              "      <td>12.127934</td>\n",
              "      <td>8.591168</td>\n",
              "      <td>...</td>\n",
              "      <td>5.559354</td>\n",
              "      <td>5.161200</td>\n",
              "      <td>5.946417</td>\n",
              "      <td>4.778810</td>\n",
              "      <td>11.532450</td>\n",
              "      <td>6.812480</td>\n",
              "      <td>7.646006</td>\n",
              "      <td>2.716335</td>\n",
              "      <td>6.468148</td>\n",
              "      <td>3.090077</td>\n",
              "    </tr>\n",
              "    <tr>\n",
              "      <th>min</th>\n",
              "      <td>0.000000</td>\n",
              "      <td>0.000000</td>\n",
              "      <td>0.000000</td>\n",
              "      <td>0.000000</td>\n",
              "      <td>0.000000</td>\n",
              "      <td>0.000000</td>\n",
              "      <td>0.000000</td>\n",
              "      <td>0.000000</td>\n",
              "      <td>0.000000</td>\n",
              "      <td>0.000000</td>\n",
              "      <td>...</td>\n",
              "      <td>0.000000</td>\n",
              "      <td>0.000000</td>\n",
              "      <td>0.000000</td>\n",
              "      <td>0.000000</td>\n",
              "      <td>0.000000</td>\n",
              "      <td>0.000000</td>\n",
              "      <td>0.000000</td>\n",
              "      <td>0.000000</td>\n",
              "      <td>0.000000</td>\n",
              "      <td>0.000000</td>\n",
              "    </tr>\n",
              "    <tr>\n",
              "      <th>25%</th>\n",
              "      <td>0.000000</td>\n",
              "      <td>0.000000</td>\n",
              "      <td>3.399403</td>\n",
              "      <td>7.223440</td>\n",
              "      <td>0.000000</td>\n",
              "      <td>0.000000</td>\n",
              "      <td>0.000000</td>\n",
              "      <td>0.000000</td>\n",
              "      <td>13.706818</td>\n",
              "      <td>3.923866</td>\n",
              "      <td>...</td>\n",
              "      <td>0.000000</td>\n",
              "      <td>2.663480</td>\n",
              "      <td>3.575895</td>\n",
              "      <td>5.381443</td>\n",
              "      <td>5.391687</td>\n",
              "      <td>0.000000</td>\n",
              "      <td>4.660590</td>\n",
              "      <td>0.000000</td>\n",
              "      <td>0.000000</td>\n",
              "      <td>0.000000</td>\n",
              "    </tr>\n",
              "    <tr>\n",
              "      <th>50%</th>\n",
              "      <td>1.260294</td>\n",
              "      <td>0.000000</td>\n",
              "      <td>6.371126</td>\n",
              "      <td>12.972973</td>\n",
              "      <td>0.000000</td>\n",
              "      <td>0.000000</td>\n",
              "      <td>0.000000</td>\n",
              "      <td>0.000000</td>\n",
              "      <td>21.190144</td>\n",
              "      <td>10.053350</td>\n",
              "      <td>...</td>\n",
              "      <td>0.000000</td>\n",
              "      <td>4.745046</td>\n",
              "      <td>6.356191</td>\n",
              "      <td>7.307524</td>\n",
              "      <td>12.730917</td>\n",
              "      <td>0.000000</td>\n",
              "      <td>7.218750</td>\n",
              "      <td>0.000000</td>\n",
              "      <td>1.518961</td>\n",
              "      <td>0.000000</td>\n",
              "    </tr>\n",
              "    <tr>\n",
              "      <th>75%</th>\n",
              "      <td>2.516281</td>\n",
              "      <td>0.000000</td>\n",
              "      <td>10.669620</td>\n",
              "      <td>16.663385</td>\n",
              "      <td>0.000000</td>\n",
              "      <td>0.000000</td>\n",
              "      <td>0.000000</td>\n",
              "      <td>0.000000</td>\n",
              "      <td>30.118989</td>\n",
              "      <td>15.426448</td>\n",
              "      <td>...</td>\n",
              "      <td>2.045827</td>\n",
              "      <td>7.370880</td>\n",
              "      <td>9.730784</td>\n",
              "      <td>9.462371</td>\n",
              "      <td>18.891637</td>\n",
              "      <td>2.955911</td>\n",
              "      <td>10.638158</td>\n",
              "      <td>0.000000</td>\n",
              "      <td>3.456945</td>\n",
              "      <td>0.988543</td>\n",
              "    </tr>\n",
              "    <tr>\n",
              "      <th>max</th>\n",
              "      <td>100.000000</td>\n",
              "      <td>100.000000</td>\n",
              "      <td>100.000000</td>\n",
              "      <td>100.000000</td>\n",
              "      <td>100.000000</td>\n",
              "      <td>100.000000</td>\n",
              "      <td>100.000000</td>\n",
              "      <td>100.000000</td>\n",
              "      <td>100.000000</td>\n",
              "      <td>100.000000</td>\n",
              "      <td>...</td>\n",
              "      <td>100.000000</td>\n",
              "      <td>100.000000</td>\n",
              "      <td>100.000000</td>\n",
              "      <td>100.000000</td>\n",
              "      <td>100.000000</td>\n",
              "      <td>100.000000</td>\n",
              "      <td>100.000000</td>\n",
              "      <td>100.000000</td>\n",
              "      <td>100.000000</td>\n",
              "      <td>100.000000</td>\n",
              "    </tr>\n",
              "  </tbody>\n",
              "</table>\n",
              "<p>8 rows × 82 columns</p>\n",
              "</div>\n",
              "      <button class=\"colab-df-convert\" onclick=\"convertToInteractive('df-4e99c630-2fce-4f9e-95b1-6bb8761d7d9d')\"\n",
              "              title=\"Convert this dataframe to an interactive table.\"\n",
              "              style=\"display:none;\">\n",
              "        \n",
              "  <svg xmlns=\"http://www.w3.org/2000/svg\" height=\"24px\"viewBox=\"0 0 24 24\"\n",
              "       width=\"24px\">\n",
              "    <path d=\"M0 0h24v24H0V0z\" fill=\"none\"/>\n",
              "    <path d=\"M18.56 5.44l.94 2.06.94-2.06 2.06-.94-2.06-.94-.94-2.06-.94 2.06-2.06.94zm-11 1L8.5 8.5l.94-2.06 2.06-.94-2.06-.94L8.5 2.5l-.94 2.06-2.06.94zm10 10l.94 2.06.94-2.06 2.06-.94-2.06-.94-.94-2.06-.94 2.06-2.06.94z\"/><path d=\"M17.41 7.96l-1.37-1.37c-.4-.4-.92-.59-1.43-.59-.52 0-1.04.2-1.43.59L10.3 9.45l-7.72 7.72c-.78.78-.78 2.05 0 2.83L4 21.41c.39.39.9.59 1.41.59.51 0 1.02-.2 1.41-.59l7.78-7.78 2.81-2.81c.8-.78.8-2.07 0-2.86zM5.41 20L4 18.59l7.72-7.72 1.47 1.35L5.41 20z\"/>\n",
              "  </svg>\n",
              "      </button>\n",
              "      \n",
              "  <style>\n",
              "    .colab-df-container {\n",
              "      display:flex;\n",
              "      flex-wrap:wrap;\n",
              "      gap: 12px;\n",
              "    }\n",
              "\n",
              "    .colab-df-convert {\n",
              "      background-color: #E8F0FE;\n",
              "      border: none;\n",
              "      border-radius: 50%;\n",
              "      cursor: pointer;\n",
              "      display: none;\n",
              "      fill: #1967D2;\n",
              "      height: 32px;\n",
              "      padding: 0 0 0 0;\n",
              "      width: 32px;\n",
              "    }\n",
              "\n",
              "    .colab-df-convert:hover {\n",
              "      background-color: #E2EBFA;\n",
              "      box-shadow: 0px 1px 2px rgba(60, 64, 67, 0.3), 0px 1px 3px 1px rgba(60, 64, 67, 0.15);\n",
              "      fill: #174EA6;\n",
              "    }\n",
              "\n",
              "    [theme=dark] .colab-df-convert {\n",
              "      background-color: #3B4455;\n",
              "      fill: #D2E3FC;\n",
              "    }\n",
              "\n",
              "    [theme=dark] .colab-df-convert:hover {\n",
              "      background-color: #434B5C;\n",
              "      box-shadow: 0px 1px 3px 1px rgba(0, 0, 0, 0.15);\n",
              "      filter: drop-shadow(0px 1px 2px rgba(0, 0, 0, 0.3));\n",
              "      fill: #FFFFFF;\n",
              "    }\n",
              "  </style>\n",
              "\n",
              "      <script>\n",
              "        const buttonEl =\n",
              "          document.querySelector('#df-4e99c630-2fce-4f9e-95b1-6bb8761d7d9d button.colab-df-convert');\n",
              "        buttonEl.style.display =\n",
              "          google.colab.kernel.accessAllowed ? 'block' : 'none';\n",
              "\n",
              "        async function convertToInteractive(key) {\n",
              "          const element = document.querySelector('#df-4e99c630-2fce-4f9e-95b1-6bb8761d7d9d');\n",
              "          const dataTable =\n",
              "            await google.colab.kernel.invokeFunction('convertToInteractive',\n",
              "                                                     [key], {});\n",
              "          if (!dataTable) return;\n",
              "\n",
              "          const docLinkHtml = 'Like what you see? Visit the ' +\n",
              "            '<a target=\"_blank\" href=https://colab.research.google.com/notebooks/data_table.ipynb>data table notebook</a>'\n",
              "            + ' to learn more about interactive tables.';\n",
              "          element.innerHTML = '';\n",
              "          dataTable['output_type'] = 'display_data';\n",
              "          await google.colab.output.renderOutput(dataTable, element);\n",
              "          const docLink = document.createElement('div');\n",
              "          docLink.innerHTML = docLinkHtml;\n",
              "          element.appendChild(docLink);\n",
              "        }\n",
              "      </script>\n",
              "    </div>\n",
              "  </div>\n",
              "  "
            ]
          },
          "metadata": {},
          "execution_count": 84
        }
      ]
    },
    {
      "cell_type": "code",
      "source": [
        "gt_full = pd.read_csv('GT_adj.csv', index_col=0)"
      ],
      "metadata": {
        "id": "cG7FcMhqRB5I"
      },
      "execution_count": 6,
      "outputs": []
    },
    {
      "cell_type": "code",
      "source": [
        "gt_full"
      ],
      "metadata": {
        "colab": {
          "base_uri": "https://localhost:8080/",
          "height": 661
        },
        "id": "CD9dbzwrRbBQ",
        "outputId": "e3e5efa0-7d2f-43fc-d814-a6e44f23ef0f"
      },
      "execution_count": 7,
      "outputs": [
        {
          "output_type": "execute_result",
          "data": {
            "text/plain": [
              "            BCH_adj_svi  WBNB_adj_svi  ETH_adj_svi  XLM_adj_svi  C98_adj_svi  \\\n",
              "2015-01-01     1.113173      0.000000     0.000000     7.859752     0.000000   \n",
              "2015-01-02     0.000000      0.000000     0.000000     8.677867     0.000000   \n",
              "2015-01-03     0.000000      0.000000     0.000000     8.473338     0.000000   \n",
              "2015-01-04     0.995996      0.000000     0.000000    13.382031     0.000000   \n",
              "2015-01-05     0.000000      0.000000     0.000000    13.704732     0.000000   \n",
              "...                 ...           ...          ...          ...          ...   \n",
              "2021-12-27     1.233374     12.558870    13.142262    12.647242     0.306639   \n",
              "2021-12-28     2.223319      9.914897    13.210005     9.233378     0.161933   \n",
              "2021-12-29     2.044805      2.478724    14.768108     9.233378     0.072353   \n",
              "2021-12-30     1.817604     10.575890    13.210005     8.182958     0.072353   \n",
              "2021-12-31     2.369377     19.499298    11.651902     7.920353     0.099916   \n",
              "\n",
              "            JASMY_adj_svi  AVAX_adj_svi  SHIB_adj_svi  KRW_adj_svi  \\\n",
              "2015-01-01       0.000000      0.000000      0.000000    15.278014   \n",
              "2015-01-02       0.000000      0.000000      0.000000    23.003063   \n",
              "2015-01-03       0.000000      0.000000      0.000000    11.873756   \n",
              "2015-01-04       0.000000      0.000000      0.000000    18.813206   \n",
              "2015-01-05       0.000000      0.000000      0.000000    16.203423   \n",
              "...                   ...           ...           ...          ...   \n",
              "2021-12-27       6.238106      4.516750      3.330601    24.396920   \n",
              "2021-12-28       4.366674      3.469388      2.497950    22.686504   \n",
              "2021-12-29       2.183337      3.600308      2.664480    11.782600   \n",
              "2021-12-30       5.614296      3.731228      2.831010    17.982859   \n",
              "2021-12-31       6.861917      3.338467      1.998360    22.900306   \n",
              "\n",
              "            XRP_adj_svi  ...  MKR_adj_svi  TRY_adj_svi  DASH_adj_svi  \\\n",
              "2015-01-01    13.046472  ...     0.000000     3.092220      6.553404   \n",
              "2015-01-02    14.444876  ...     0.000000     2.309303      6.271031   \n",
              "2015-01-03    16.367681  ...     0.000000     1.526386      6.741652   \n",
              "2015-01-04    15.843280  ...     0.000000     4.745046      7.400522   \n",
              "2015-01-05    13.368882  ...     0.000000     7.775226      7.165212   \n",
              "...                 ...  ...          ...          ...           ...   \n",
              "2021-12-27     5.187734  ...     0.000000     9.294666      6.427905   \n",
              "2021-12-28     5.238717  ...     1.047463     9.042393      4.866139   \n",
              "2021-12-29     4.983800  ...     5.237316     8.537846      5.312358   \n",
              "2021-12-30     4.677899  ...     0.523732     9.799213      4.587252   \n",
              "2021-12-31     4.117081  ...     1.047463     7.781026      2.969709   \n",
              "\n",
              "            SAND_adj_svi  XMR_adj_svi  AAVE_adj_svi  JST_adj_svi  DAR_adj_svi  \\\n",
              "2015-01-01      5.041237    10.461675      0.000000     2.187500     3.605769   \n",
              "2015-01-02      4.855670    16.947141      7.746772     1.859375     0.000000   \n",
              "2015-01-03      3.000000     9.535180      0.000000     2.953125     0.000000   \n",
              "2015-01-04      7.731959    20.653122      0.000000     7.984375     1.644737   \n",
              "2015-01-05      8.310175    22.254472      0.000000     6.843750     0.000000   \n",
              "...                  ...          ...           ...          ...          ...   \n",
              "2021-12-27      6.618557    18.076583      7.939991     7.109375     0.404858   \n",
              "2021-12-28      5.347079    15.552986      6.517903    11.210938     0.202429   \n",
              "2021-12-29      5.219931    16.700076      8.532527     7.109375     0.101215   \n",
              "2021-12-30      4.584192    17.158911      5.569844     9.023438     0.000000   \n",
              "2021-12-31      3.694158    12.570554      5.273576    14.218750     0.101215   \n",
              "\n",
              "            REP_adj_svi  ICP_adj_svi  \n",
              "2015-01-01     0.000000     0.000000  \n",
              "2015-01-02     1.518961     0.000000  \n",
              "2015-01-03     0.000000     0.000000  \n",
              "2015-01-04     0.000000     0.000000  \n",
              "2015-01-05     0.000000     0.751237  \n",
              "...                 ...          ...  \n",
              "2021-12-27     1.539007     0.596022  \n",
              "2021-12-28     0.747518     0.378723  \n",
              "2021-12-29     0.769503     0.459434  \n",
              "2021-12-30     0.000000     0.397348  \n",
              "2021-12-31     0.857447     0.335263  \n",
              "\n",
              "[2557 rows x 82 columns]"
            ],
            "text/html": [
              "\n",
              "  <div id=\"df-e1600936-caaa-41f1-a0b2-e14ad7018891\">\n",
              "    <div class=\"colab-df-container\">\n",
              "      <div>\n",
              "<style scoped>\n",
              "    .dataframe tbody tr th:only-of-type {\n",
              "        vertical-align: middle;\n",
              "    }\n",
              "\n",
              "    .dataframe tbody tr th {\n",
              "        vertical-align: top;\n",
              "    }\n",
              "\n",
              "    .dataframe thead th {\n",
              "        text-align: right;\n",
              "    }\n",
              "</style>\n",
              "<table border=\"1\" class=\"dataframe\">\n",
              "  <thead>\n",
              "    <tr style=\"text-align: right;\">\n",
              "      <th></th>\n",
              "      <th>BCH_adj_svi</th>\n",
              "      <th>WBNB_adj_svi</th>\n",
              "      <th>ETH_adj_svi</th>\n",
              "      <th>XLM_adj_svi</th>\n",
              "      <th>C98_adj_svi</th>\n",
              "      <th>JASMY_adj_svi</th>\n",
              "      <th>AVAX_adj_svi</th>\n",
              "      <th>SHIB_adj_svi</th>\n",
              "      <th>KRW_adj_svi</th>\n",
              "      <th>XRP_adj_svi</th>\n",
              "      <th>...</th>\n",
              "      <th>MKR_adj_svi</th>\n",
              "      <th>TRY_adj_svi</th>\n",
              "      <th>DASH_adj_svi</th>\n",
              "      <th>SAND_adj_svi</th>\n",
              "      <th>XMR_adj_svi</th>\n",
              "      <th>AAVE_adj_svi</th>\n",
              "      <th>JST_adj_svi</th>\n",
              "      <th>DAR_adj_svi</th>\n",
              "      <th>REP_adj_svi</th>\n",
              "      <th>ICP_adj_svi</th>\n",
              "    </tr>\n",
              "  </thead>\n",
              "  <tbody>\n",
              "    <tr>\n",
              "      <th>2015-01-01</th>\n",
              "      <td>1.113173</td>\n",
              "      <td>0.000000</td>\n",
              "      <td>0.000000</td>\n",
              "      <td>7.859752</td>\n",
              "      <td>0.000000</td>\n",
              "      <td>0.000000</td>\n",
              "      <td>0.000000</td>\n",
              "      <td>0.000000</td>\n",
              "      <td>15.278014</td>\n",
              "      <td>13.046472</td>\n",
              "      <td>...</td>\n",
              "      <td>0.000000</td>\n",
              "      <td>3.092220</td>\n",
              "      <td>6.553404</td>\n",
              "      <td>5.041237</td>\n",
              "      <td>10.461675</td>\n",
              "      <td>0.000000</td>\n",
              "      <td>2.187500</td>\n",
              "      <td>3.605769</td>\n",
              "      <td>0.000000</td>\n",
              "      <td>0.000000</td>\n",
              "    </tr>\n",
              "    <tr>\n",
              "      <th>2015-01-02</th>\n",
              "      <td>0.000000</td>\n",
              "      <td>0.000000</td>\n",
              "      <td>0.000000</td>\n",
              "      <td>8.677867</td>\n",
              "      <td>0.000000</td>\n",
              "      <td>0.000000</td>\n",
              "      <td>0.000000</td>\n",
              "      <td>0.000000</td>\n",
              "      <td>23.003063</td>\n",
              "      <td>14.444876</td>\n",
              "      <td>...</td>\n",
              "      <td>0.000000</td>\n",
              "      <td>2.309303</td>\n",
              "      <td>6.271031</td>\n",
              "      <td>4.855670</td>\n",
              "      <td>16.947141</td>\n",
              "      <td>7.746772</td>\n",
              "      <td>1.859375</td>\n",
              "      <td>0.000000</td>\n",
              "      <td>1.518961</td>\n",
              "      <td>0.000000</td>\n",
              "    </tr>\n",
              "    <tr>\n",
              "      <th>2015-01-03</th>\n",
              "      <td>0.000000</td>\n",
              "      <td>0.000000</td>\n",
              "      <td>0.000000</td>\n",
              "      <td>8.473338</td>\n",
              "      <td>0.000000</td>\n",
              "      <td>0.000000</td>\n",
              "      <td>0.000000</td>\n",
              "      <td>0.000000</td>\n",
              "      <td>11.873756</td>\n",
              "      <td>16.367681</td>\n",
              "      <td>...</td>\n",
              "      <td>0.000000</td>\n",
              "      <td>1.526386</td>\n",
              "      <td>6.741652</td>\n",
              "      <td>3.000000</td>\n",
              "      <td>9.535180</td>\n",
              "      <td>0.000000</td>\n",
              "      <td>2.953125</td>\n",
              "      <td>0.000000</td>\n",
              "      <td>0.000000</td>\n",
              "      <td>0.000000</td>\n",
              "    </tr>\n",
              "    <tr>\n",
              "      <th>2015-01-04</th>\n",
              "      <td>0.995996</td>\n",
              "      <td>0.000000</td>\n",
              "      <td>0.000000</td>\n",
              "      <td>13.382031</td>\n",
              "      <td>0.000000</td>\n",
              "      <td>0.000000</td>\n",
              "      <td>0.000000</td>\n",
              "      <td>0.000000</td>\n",
              "      <td>18.813206</td>\n",
              "      <td>15.843280</td>\n",
              "      <td>...</td>\n",
              "      <td>0.000000</td>\n",
              "      <td>4.745046</td>\n",
              "      <td>7.400522</td>\n",
              "      <td>7.731959</td>\n",
              "      <td>20.653122</td>\n",
              "      <td>0.000000</td>\n",
              "      <td>7.984375</td>\n",
              "      <td>1.644737</td>\n",
              "      <td>0.000000</td>\n",
              "      <td>0.000000</td>\n",
              "    </tr>\n",
              "    <tr>\n",
              "      <th>2015-01-05</th>\n",
              "      <td>0.000000</td>\n",
              "      <td>0.000000</td>\n",
              "      <td>0.000000</td>\n",
              "      <td>13.704732</td>\n",
              "      <td>0.000000</td>\n",
              "      <td>0.000000</td>\n",
              "      <td>0.000000</td>\n",
              "      <td>0.000000</td>\n",
              "      <td>16.203423</td>\n",
              "      <td>13.368882</td>\n",
              "      <td>...</td>\n",
              "      <td>0.000000</td>\n",
              "      <td>7.775226</td>\n",
              "      <td>7.165212</td>\n",
              "      <td>8.310175</td>\n",
              "      <td>22.254472</td>\n",
              "      <td>0.000000</td>\n",
              "      <td>6.843750</td>\n",
              "      <td>0.000000</td>\n",
              "      <td>0.000000</td>\n",
              "      <td>0.751237</td>\n",
              "    </tr>\n",
              "    <tr>\n",
              "      <th>...</th>\n",
              "      <td>...</td>\n",
              "      <td>...</td>\n",
              "      <td>...</td>\n",
              "      <td>...</td>\n",
              "      <td>...</td>\n",
              "      <td>...</td>\n",
              "      <td>...</td>\n",
              "      <td>...</td>\n",
              "      <td>...</td>\n",
              "      <td>...</td>\n",
              "      <td>...</td>\n",
              "      <td>...</td>\n",
              "      <td>...</td>\n",
              "      <td>...</td>\n",
              "      <td>...</td>\n",
              "      <td>...</td>\n",
              "      <td>...</td>\n",
              "      <td>...</td>\n",
              "      <td>...</td>\n",
              "      <td>...</td>\n",
              "      <td>...</td>\n",
              "    </tr>\n",
              "    <tr>\n",
              "      <th>2021-12-27</th>\n",
              "      <td>1.233374</td>\n",
              "      <td>12.558870</td>\n",
              "      <td>13.142262</td>\n",
              "      <td>12.647242</td>\n",
              "      <td>0.306639</td>\n",
              "      <td>6.238106</td>\n",
              "      <td>4.516750</td>\n",
              "      <td>3.330601</td>\n",
              "      <td>24.396920</td>\n",
              "      <td>5.187734</td>\n",
              "      <td>...</td>\n",
              "      <td>0.000000</td>\n",
              "      <td>9.294666</td>\n",
              "      <td>6.427905</td>\n",
              "      <td>6.618557</td>\n",
              "      <td>18.076583</td>\n",
              "      <td>7.939991</td>\n",
              "      <td>7.109375</td>\n",
              "      <td>0.404858</td>\n",
              "      <td>1.539007</td>\n",
              "      <td>0.596022</td>\n",
              "    </tr>\n",
              "    <tr>\n",
              "      <th>2021-12-28</th>\n",
              "      <td>2.223319</td>\n",
              "      <td>9.914897</td>\n",
              "      <td>13.210005</td>\n",
              "      <td>9.233378</td>\n",
              "      <td>0.161933</td>\n",
              "      <td>4.366674</td>\n",
              "      <td>3.469388</td>\n",
              "      <td>2.497950</td>\n",
              "      <td>22.686504</td>\n",
              "      <td>5.238717</td>\n",
              "      <td>...</td>\n",
              "      <td>1.047463</td>\n",
              "      <td>9.042393</td>\n",
              "      <td>4.866139</td>\n",
              "      <td>5.347079</td>\n",
              "      <td>15.552986</td>\n",
              "      <td>6.517903</td>\n",
              "      <td>11.210938</td>\n",
              "      <td>0.202429</td>\n",
              "      <td>0.747518</td>\n",
              "      <td>0.378723</td>\n",
              "    </tr>\n",
              "    <tr>\n",
              "      <th>2021-12-29</th>\n",
              "      <td>2.044805</td>\n",
              "      <td>2.478724</td>\n",
              "      <td>14.768108</td>\n",
              "      <td>9.233378</td>\n",
              "      <td>0.072353</td>\n",
              "      <td>2.183337</td>\n",
              "      <td>3.600308</td>\n",
              "      <td>2.664480</td>\n",
              "      <td>11.782600</td>\n",
              "      <td>4.983800</td>\n",
              "      <td>...</td>\n",
              "      <td>5.237316</td>\n",
              "      <td>8.537846</td>\n",
              "      <td>5.312358</td>\n",
              "      <td>5.219931</td>\n",
              "      <td>16.700076</td>\n",
              "      <td>8.532527</td>\n",
              "      <td>7.109375</td>\n",
              "      <td>0.101215</td>\n",
              "      <td>0.769503</td>\n",
              "      <td>0.459434</td>\n",
              "    </tr>\n",
              "    <tr>\n",
              "      <th>2021-12-30</th>\n",
              "      <td>1.817604</td>\n",
              "      <td>10.575890</td>\n",
              "      <td>13.210005</td>\n",
              "      <td>8.182958</td>\n",
              "      <td>0.072353</td>\n",
              "      <td>5.614296</td>\n",
              "      <td>3.731228</td>\n",
              "      <td>2.831010</td>\n",
              "      <td>17.982859</td>\n",
              "      <td>4.677899</td>\n",
              "      <td>...</td>\n",
              "      <td>0.523732</td>\n",
              "      <td>9.799213</td>\n",
              "      <td>4.587252</td>\n",
              "      <td>4.584192</td>\n",
              "      <td>17.158911</td>\n",
              "      <td>5.569844</td>\n",
              "      <td>9.023438</td>\n",
              "      <td>0.000000</td>\n",
              "      <td>0.000000</td>\n",
              "      <td>0.397348</td>\n",
              "    </tr>\n",
              "    <tr>\n",
              "      <th>2021-12-31</th>\n",
              "      <td>2.369377</td>\n",
              "      <td>19.499298</td>\n",
              "      <td>11.651902</td>\n",
              "      <td>7.920353</td>\n",
              "      <td>0.099916</td>\n",
              "      <td>6.861917</td>\n",
              "      <td>3.338467</td>\n",
              "      <td>1.998360</td>\n",
              "      <td>22.900306</td>\n",
              "      <td>4.117081</td>\n",
              "      <td>...</td>\n",
              "      <td>1.047463</td>\n",
              "      <td>7.781026</td>\n",
              "      <td>2.969709</td>\n",
              "      <td>3.694158</td>\n",
              "      <td>12.570554</td>\n",
              "      <td>5.273576</td>\n",
              "      <td>14.218750</td>\n",
              "      <td>0.101215</td>\n",
              "      <td>0.857447</td>\n",
              "      <td>0.335263</td>\n",
              "    </tr>\n",
              "  </tbody>\n",
              "</table>\n",
              "<p>2557 rows × 82 columns</p>\n",
              "</div>\n",
              "      <button class=\"colab-df-convert\" onclick=\"convertToInteractive('df-e1600936-caaa-41f1-a0b2-e14ad7018891')\"\n",
              "              title=\"Convert this dataframe to an interactive table.\"\n",
              "              style=\"display:none;\">\n",
              "        \n",
              "  <svg xmlns=\"http://www.w3.org/2000/svg\" height=\"24px\"viewBox=\"0 0 24 24\"\n",
              "       width=\"24px\">\n",
              "    <path d=\"M0 0h24v24H0V0z\" fill=\"none\"/>\n",
              "    <path d=\"M18.56 5.44l.94 2.06.94-2.06 2.06-.94-2.06-.94-.94-2.06-.94 2.06-2.06.94zm-11 1L8.5 8.5l.94-2.06 2.06-.94-2.06-.94L8.5 2.5l-.94 2.06-2.06.94zm10 10l.94 2.06.94-2.06 2.06-.94-2.06-.94-.94-2.06-.94 2.06-2.06.94z\"/><path d=\"M17.41 7.96l-1.37-1.37c-.4-.4-.92-.59-1.43-.59-.52 0-1.04.2-1.43.59L10.3 9.45l-7.72 7.72c-.78.78-.78 2.05 0 2.83L4 21.41c.39.39.9.59 1.41.59.51 0 1.02-.2 1.41-.59l7.78-7.78 2.81-2.81c.8-.78.8-2.07 0-2.86zM5.41 20L4 18.59l7.72-7.72 1.47 1.35L5.41 20z\"/>\n",
              "  </svg>\n",
              "      </button>\n",
              "      \n",
              "  <style>\n",
              "    .colab-df-container {\n",
              "      display:flex;\n",
              "      flex-wrap:wrap;\n",
              "      gap: 12px;\n",
              "    }\n",
              "\n",
              "    .colab-df-convert {\n",
              "      background-color: #E8F0FE;\n",
              "      border: none;\n",
              "      border-radius: 50%;\n",
              "      cursor: pointer;\n",
              "      display: none;\n",
              "      fill: #1967D2;\n",
              "      height: 32px;\n",
              "      padding: 0 0 0 0;\n",
              "      width: 32px;\n",
              "    }\n",
              "\n",
              "    .colab-df-convert:hover {\n",
              "      background-color: #E2EBFA;\n",
              "      box-shadow: 0px 1px 2px rgba(60, 64, 67, 0.3), 0px 1px 3px 1px rgba(60, 64, 67, 0.15);\n",
              "      fill: #174EA6;\n",
              "    }\n",
              "\n",
              "    [theme=dark] .colab-df-convert {\n",
              "      background-color: #3B4455;\n",
              "      fill: #D2E3FC;\n",
              "    }\n",
              "\n",
              "    [theme=dark] .colab-df-convert:hover {\n",
              "      background-color: #434B5C;\n",
              "      box-shadow: 0px 1px 3px 1px rgba(0, 0, 0, 0.15);\n",
              "      filter: drop-shadow(0px 1px 2px rgba(0, 0, 0, 0.3));\n",
              "      fill: #FFFFFF;\n",
              "    }\n",
              "  </style>\n",
              "\n",
              "      <script>\n",
              "        const buttonEl =\n",
              "          document.querySelector('#df-e1600936-caaa-41f1-a0b2-e14ad7018891 button.colab-df-convert');\n",
              "        buttonEl.style.display =\n",
              "          google.colab.kernel.accessAllowed ? 'block' : 'none';\n",
              "\n",
              "        async function convertToInteractive(key) {\n",
              "          const element = document.querySelector('#df-e1600936-caaa-41f1-a0b2-e14ad7018891');\n",
              "          const dataTable =\n",
              "            await google.colab.kernel.invokeFunction('convertToInteractive',\n",
              "                                                     [key], {});\n",
              "          if (!dataTable) return;\n",
              "\n",
              "          const docLinkHtml = 'Like what you see? Visit the ' +\n",
              "            '<a target=\"_blank\" href=https://colab.research.google.com/notebooks/data_table.ipynb>data table notebook</a>'\n",
              "            + ' to learn more about interactive tables.';\n",
              "          element.innerHTML = '';\n",
              "          dataTable['output_type'] = 'display_data';\n",
              "          await google.colab.output.renderOutput(dataTable, element);\n",
              "          const docLink = document.createElement('div');\n",
              "          docLink.innerHTML = docLinkHtml;\n",
              "          element.appendChild(docLink);\n",
              "        }\n",
              "      </script>\n",
              "    </div>\n",
              "  </div>\n",
              "  "
            ]
          },
          "metadata": {},
          "execution_count": 7
        }
      ]
    },
    {
      "cell_type": "code",
      "source": [
        "fig, ax = plt.subplots( figsize=(60, 10))\n",
        "\n",
        "ax.plot(gt_full.index, gt_full['ETH_adj_svi'], linewidth = 2, color='blue')\n",
        "ax.set_xlabel('Date', fontsize=45)\n",
        "ax.set_ylabel('SVI', fontsize=45)\n",
        "ax.set_title('Ethereum SVI dynamics', fontsize=45)\n",
        "ax.xaxis.set_major_locator(ticker.MultipleLocator(200))\n",
        "ax.tick_params(axis='both', which='major', labelsize=35)"
      ],
      "metadata": {
        "colab": {
          "base_uri": "https://localhost:8080/",
          "height": 291
        },
        "id": "MwIhCDw6TCWu",
        "outputId": "7054b7ae-f854-493b-effc-8496a20ab0bf"
      },
      "execution_count": 23,
      "outputs": [
        {
          "output_type": "display_data",
          "data": {
            "text/plain": [
              "<Figure size 4320x720 with 1 Axes>"
            ],
            "image/png": "[encoded data removed]"
          },
          "metadata": {
            "needs_background": "light"
          }
        }
      ]
    },
    {
      "cell_type": "code",
      "source": [
        "fig, ax = plt.subplots( figsize=(60, 10))\n",
        "\n",
        "ax.plot(gt_full.index, gt_full['BTC_adj_svi'], linewidth = 2, color='blue')\n",
        "ax.set_xlabel('Date', fontsize=45)\n",
        "ax.set_ylabel('SVI', fontsize=45)\n",
        "ax.set_title('Bitcoin SVI dynamics', fontsize=45)\n",
        "ax.xaxis.set_major_locator(ticker.MultipleLocator(200))\n",
        "ax.tick_params(axis='both', which='major', labelsize=35)"
      ],
      "metadata": {
        "colab": {
          "base_uri": "https://localhost:8080/",
          "height": 291
        },
        "id": "50wp3Gwrc2lG",
        "outputId": "c1703042-33d8-40d6-f2a7-19d1bc845a53"
      },
      "execution_count": 25,
      "outputs": [
        {
          "output_type": "display_data",
          "data": {
            "text/plain": [
              "<Figure size 4320x720 with 1 Axes>"
            ],
            "image/png": "[encoded data removed]"
          },
          "metadata": {
            "needs_background": "light"
          }
        }
      ]
    },
    {
      "cell_type": "code",
      "source": [
        "plt.figure(figsize=(12, 7))\n",
        "\n",
        "plt.xlabel('Date', fontsize=15)\n",
        "plt.ylabel('SVI', fontsize=15)\n",
        "plt.title('Ethereum SVI dynamics')\n",
        "plt.plot(gt_full.index, gt_full['ETH_adj_svi'], linewidth = 1, color='blue')"
      ],
      "metadata": {
        "id": "2AZhx0ycUQXa"
      },
      "execution_count": null,
      "outputs": []
    }
  ],
  "metadata": {
    "colab": {
      "collapsed_sections": [],
      "name": "GoogleTrends_scraper.ipynb",
      "provenance": []
    },
    "kernelspec": {
      "display_name": "Python 3",
      "name": "python3"
    },
    "language_info": {
      "name": "python"
    }
  },
  "nbformat": 4,
  "nbformat_minor": 0
}